{
 "cells": [
  {
   "cell_type": "code",
   "execution_count": 14,
   "metadata": {},
   "outputs": [],
   "source": [
    "#https://github.com/giswqs/geemap/blob/master/examples/notebooks/11_export_image.ipynb\n",
    "import ee\n",
    "import geemap\n",
    "import numpy as np\n",
    "import matplotlib.pyplot as plt"
   ]
  },
  {
   "cell_type": "code",
   "execution_count": null,
   "metadata": {},
   "outputs": [],
   "source": [
    "# Initialize the Earth Engine module.\n",
    "ee.Initialize()"
   ]
  },
  {
   "cell_type": "code",
   "execution_count": 105,
   "metadata": {},
   "outputs": [],
   "source": [
    "#// Create a domain name to attach to your output. Optional.\n",
    "domain_name = 'WY'\n",
    "'''\n",
    "// These are the min and max corners of your domain in Lat, Long\n",
    "// Western Wyoming\n",
    "// Input the minimum lat, lower left corner\n",
    "'''\n",
    "minLat = 42.363116\n",
    "#// Input the minimum long, lower left corner\n",
    "minLong = -111.155208\n",
    "#// Input the max lat, upper right corner\n",
    "maxLat = 44.582480\n",
    "#// Input the max Long, upper right corner\n",
    "maxLong = -109.477849"
   ]
  },
  {
   "cell_type": "code",
   "execution_count": 106,
   "metadata": {},
   "outputs": [],
   "source": [
    "#/ These are the min and max corners of your reanalysis in Lat, Long (create a slightly larger box)\n",
    "#// Input the minimum lat, lower left corner\n",
    "minLat2 = (minLat - 0.25);\n",
    "#// print(minLat2);\n",
    "#// Input the minimum long, lower left corner\n",
    "minLong2 = (minLong - 0.5);\n",
    "#// Input the max lat, upper right corner\n",
    "maxLat2 = (maxLat + 0.25);\n",
    "#// Input the max Long, upper right corner\n",
    "maxLong2 = (maxLong + 0.5);"
   ]
  },
  {
   "cell_type": "code",
   "execution_count": 107,
   "metadata": {},
   "outputs": [],
   "source": [
    "# This resolution for the NLCD and DEM outputs for the SnowModel domain in meters\n",
    "sm_resolution = 100\n",
    "\n",
    "\n",
    "'''// Resolution for the PRISM output. This shoud change by Latitude of the domain\n",
    "// because the PRISM product spatial resolution is 2.5 minutes, which equals 150 arc seconds.\n",
    "// You can use this arc-second calculator to estimate the correct value for the PRISM resolution by latitude\n",
    "// https://opendem.info/arc2meters.html\n",
    "// This is one arc-second in meters for 43 degrees N Latitude'''\n",
    "one_arcsecond = 22.57\n",
    "PRISM_resolution = one_arcsecond * 150\n",
    "\n",
    "'''// Define the final output projection using EPSG codes\n",
    "// These are the EPSG codes for the final projection of your SnowModel simulation.\n",
    "// WGS UTM Zone 12 Code for Idaho/Wyoming = 32612\n",
    "// WGS UTM Zone 11 Code for Nevada        = 32611\n",
    "// WGS UTM Zone 10 Code for West Coast    = 32610\n",
    "// WGS 84 4326\n",
    "// WGS UTM 10\n",
    "// WGS Alaska Albers = 3338'''\n",
    "epsg_code = 'EPSG:32612'\n",
    "\n",
    "#// Name the DEM output\n",
    "dem_name = 'DEM'\n",
    "#// Name the Land Cover output\n",
    "lc_name = 'NLCD2016'\n",
    "\n",
    "'''// The Beginning and End Dates you care about //\n",
    "// This will start on the 'begin' date at 0:00 and the last iteration will be \n",
    "// on the day before the 'end' date below.'''\n",
    "begin = '2014-09-01'\n",
    "end = '2014-09-02'"
   ]
  },
  {
   "cell_type": "markdown",
   "metadata": {},
   "source": [
    "# Domain"
   ]
  },
  {
   "cell_type": "code",
   "execution_count": 108,
   "metadata": {},
   "outputs": [],
   "source": [
    "my_domain = ee.Geometry.Rectangle(**{'coords':[minLong,minLat,maxLong,maxLat],'proj': 'EPSG:4326','geodesic':True,});\n",
    "my_domain2 = ee.Geometry.Rectangle([minLong2,minLat2,maxLong2,maxLat2])"
   ]
  },
  {
   "cell_type": "code",
   "execution_count": 65,
   "metadata": {},
   "outputs": [],
   "source": [
    "'''////////////////   Datasets of Interest  //////////////////////\n",
    "////////    Digital Elevation Models and Land Cover   /////////\n",
    "///////////////////////////////////////////////////////////////\n",
    "\n",
    "// NOTE: several choices below for DEM. Uncomment your preferred option\n",
    "\n",
    "////////   Import 30m SRTM Data   ///////////////////\n",
    "// NOTE: This only covers through 60 degrees latitude. See visualization layers.\n",
    "//var SRTM30 = ee.Image('USGS/SRTMGL1_003');\n",
    "// Find out some info about this image (hint: look in the console)\n",
    "//var bands30 = SRTM30.bandNames();\n",
    "//var info30 = SRTM30.getInfo();\n",
    "//print(bands30,'Band Names');\n",
    "//print(info30,'Band Info');\n",
    "//Map.addLayer(SRTM30,visparams,'SRTM30');\n",
    "\n",
    "////////  Import 100m ASTER data //////////////\n",
    "// NOTE: this works above 60 deg lat; better for Alaska...\n",
    "//var ASTER = ee.Image('NASA/ASTER_GED/AG100_003');\n",
    "// Find out some info about this image (hint: look in the console)\n",
    "//var bands100 = ASTER.bandNames();\n",
    "//var info100 = ASTER.getInfo();\n",
    "//print(bands100,'Band Names');\n",
    "//print(info100,'Band Info');\n",
    "//Map.addLayer(ASTER,visparams_aster,'ASTER');\n",
    "'''\n",
    "#/////////  Import 90m SRTM Data   ////////////////////\n",
    "#// NOTE: This only covers through 60 degrees latitude. See visualization layers.\n",
    "SRTM90 = ee.Image('CGIAR/SRTM90_V4')\n",
    "bands90 = SRTM90.bandNames()\n",
    "info90 = SRTM90.getInfo()\n",
    "#print(bands90,'Band Names')\n",
    "#print(info90,'Band Info')"
   ]
  },
  {
   "cell_type": "code",
   "execution_count": 12,
   "metadata": {},
   "outputs": [
    {
     "data": {
      "text/plain": [
       "<ee.image.Image at 0x7f3d5c5ad9a0>"
      ]
     },
     "execution_count": 12,
     "metadata": {},
     "output_type": "execute_result"
    }
   ],
   "source": [
    "'''////////   Import NLCD Dataset   ////////////////////\n",
    "var NLCD = ee.ImageCollection('USGS/NLCD');\n",
    "//Note: the NLCD has numerous images for different years.'''\n",
    "landcover = NLCD.select('landcover');\n",
    "#// Define the timeframe of NLCD images to select. Currently, its set to the previous 5 years.\n",
    "landcoverfiltered=landcover.filterDate('2015-01-01','2020-01-01');\n",
    "'''landcoverVis = {\n",
    "  'min': 0.0,\n",
    "  'max': 95.0,\n",
    "  'palette': [\n",
    "    '466b9f', 'd1def8', 'dec5c5', 'd99282', 'eb0000', 'ab0000', 'b3ac9f',\n",
    "    '68ab5f', '1c5f2c', 'b5c58f', 'af963c', 'ccb879', 'dfdfc2', 'd1d182',\n",
    "    'a3cc51', '82ba9e', 'dcd939', 'ab6c28', 'b8d9eb', '6c9fb8'\n",
    "  ],\n",
    "};'''\n",
    "#// Create a single image out of the image collection using the most common land cover \n",
    "#// designation from the previous 5 years.\n",
    "lcsingle=landcoverfiltered.mode();\n",
    "#Map.addLayer(lcsingle, landcoverVis, 'Landcover');"
   ]
  },
  {
   "cell_type": "markdown",
   "metadata": {},
   "source": [
    "# download ee image \n",
    "\n",
    "Here I am just downloading the dem tif, but you could also download the lc data"
   ]
  },
  {
   "cell_type": "code",
   "execution_count": 34,
   "metadata": {},
   "outputs": [],
   "source": [
    "out_dir = os.path.abspath('/nfs/attic/dfh/Aragon2/Notebooks/preprocess_python/Downloads')\n",
    "filename = os.path.join(out_dir, 'dem.tif')"
   ]
  },
  {
   "cell_type": "code",
   "execution_count": 39,
   "metadata": {},
   "outputs": [
    {
     "name": "stdout",
     "output_type": "stream",
     "text": [
      "Generating URL ...\n",
      "Downloading data from https://earthengine.googleapis.com/v1alpha/projects/earthengine-legacy/thumbnails/9cc7bb4b9bf6b8e7e10c357537ed25af-071ba00067b8bfe6d6e8009d62d924fd:getPixels\n",
      "Please wait ...\n",
      "Data downloaded to /nfs/attic/dfh/Aragon2/Notebooks/preprocess_python/Downloads/lc.tif\n"
     ]
    }
   ],
   "source": [
    "image = SRTM90.clip(my_domain).unmask()\n",
    "geemap.ee_export_image(image, filename=filename, scale=sm_resolution, region=my_domain, file_per_band=False, crs = epsg_code)"
   ]
  },
  {
   "cell_type": "markdown",
   "metadata": {},
   "source": [
    "# download ee collection\n",
    "\n",
    "It appears that I am able to access the data, but I have to convert the collection to images before downloading. "
   ]
  },
  {
   "cell_type": "code",
   "execution_count": 109,
   "metadata": {},
   "outputs": [],
   "source": [
    "'''////////////////   Datasets of Interest  //////////////////////\n",
    "////////                Reanalysis DATA               /////////\n",
    "///////////////////////////////////////////////////////////////'''\n",
    "cfsv2 = ee.ImageCollection('NOAA/CFSV2/FOR6H') \\\n",
    "    .filterBounds(my_domain2) \\\n",
    "    .filter(ee.Filter.date(begin,end))\n"
   ]
  },
  {
   "cell_type": "markdown",
   "metadata": {},
   "source": [
    "This method exports daily .tif files of the collection that have all 22 bands.\n",
    "https://developers.google.com/earth-engine/datasets/catalog/NOAA_CFSV2_FOR6H#bands"
   ]
  },
  {
   "cell_type": "code",
   "execution_count": 79,
   "metadata": {},
   "outputs": [
    {
     "name": "stdout",
     "output_type": "stream",
     "text": [
      "Total number of images: 4\n",
      "\n",
      "Exporting 1/4: 2014090100.tif\n",
      "Generating URL ...\n",
      "Downloading data from https://earthengine.googleapis.com/v1alpha/projects/earthengine-legacy/thumbnails/f585c19f6a39f6b1367a14790c9aa4ff-958ed5962f5c02c956418e53b55637b7:getPixels\n",
      "Please wait ...\n",
      "Data downloaded to /nfs/attic/dfh/Aragon2/Notebooks/preprocess_python/Downloads/2014090100.tif\n",
      "\n",
      "\n",
      "Exporting 2/4: 2014090106.tif\n",
      "Generating URL ...\n",
      "Downloading data from https://earthengine.googleapis.com/v1alpha/projects/earthengine-legacy/thumbnails/726219629b1264c1a93299dc32f00cf3-b5857cd92d9e474ee761b44e20ed867a:getPixels\n",
      "Please wait ...\n",
      "Data downloaded to /nfs/attic/dfh/Aragon2/Notebooks/preprocess_python/Downloads/2014090106.tif\n",
      "\n",
      "\n",
      "Exporting 3/4: 2014090112.tif\n",
      "Generating URL ...\n",
      "Downloading data from https://earthengine.googleapis.com/v1alpha/projects/earthengine-legacy/thumbnails/c186cd924444e731298bb5bd50018625-648d87a6d2b5a4c4bd6b67ad5f2ee1ca:getPixels\n",
      "Please wait ...\n",
      "Data downloaded to /nfs/attic/dfh/Aragon2/Notebooks/preprocess_python/Downloads/2014090112.tif\n",
      "\n",
      "\n",
      "Exporting 4/4: 2014090118.tif\n",
      "Generating URL ...\n",
      "Downloading data from https://earthengine.googleapis.com/v1alpha/projects/earthengine-legacy/thumbnails/bbf6371e800baded4302fbd6177fd048-29b835db299f66a4c0e7c3ddd9626403:getPixels\n",
      "Please wait ...\n",
      "Data downloaded to /nfs/attic/dfh/Aragon2/Notebooks/preprocess_python/Downloads/2014090118.tif\n",
      "\n",
      "\n"
     ]
    }
   ],
   "source": [
    "cfsv2 = ee.ImageCollection('NOAA/CFSV2/FOR6H') \\\n",
    "    .filterBounds(my_domain) \\\n",
    "    .filter(ee.Filter.date(begin,end))\n",
    "geemap.ee_export_image_collection(cfsv2,out_dir=out_dir,region=my_domain2,crs=epsg_code,scale=22200)"
   ]
  },
  {
   "cell_type": "markdown",
   "metadata": {},
   "source": [
    "This method exports daily .tif files of the selected variables needed for SM"
   ]
  },
  {
   "cell_type": "code",
   "execution_count": 111,
   "metadata": {},
   "outputs": [
    {
     "name": "stdout",
     "output_type": "stream",
     "text": [
      "Total number of images: 4\n",
      "\n",
      "Exporting 1/4: 2014090100.tif\n",
      "Generating URL ...\n",
      "Downloading data from https://earthengine.googleapis.com/v1alpha/projects/earthengine-legacy/thumbnails/837c4c21ff7f7359fa018edf4ce90f93-3096922cb02ba70f2b80701ac1e16fe6:getPixels\n",
      "Please wait ...\n",
      "Data downloaded to /nfs/attic/dfh/Aragon2/Notebooks/preprocess_python/Downloads/2014090100.tif\n",
      "\n",
      "\n",
      "Exporting 2/4: 2014090106.tif\n",
      "Generating URL ...\n",
      "Downloading data from https://earthengine.googleapis.com/v1alpha/projects/earthengine-legacy/thumbnails/ff00e5ecf2210941e50f980416b72237-21257e490dab6d0823abe45ed94941e6:getPixels\n",
      "Please wait ...\n",
      "Data downloaded to /nfs/attic/dfh/Aragon2/Notebooks/preprocess_python/Downloads/2014090106.tif\n",
      "\n",
      "\n",
      "Exporting 3/4: 2014090112.tif\n",
      "Generating URL ...\n",
      "Downloading data from https://earthengine.googleapis.com/v1alpha/projects/earthengine-legacy/thumbnails/998c878396de0aa080bc4cf2ea0c11f3-3f8e9d294eaa00a08f3c835c167cad06:getPixels\n",
      "Please wait ...\n",
      "Data downloaded to /nfs/attic/dfh/Aragon2/Notebooks/preprocess_python/Downloads/2014090112.tif\n",
      "\n",
      "\n",
      "Exporting 4/4: 2014090118.tif\n",
      "Generating URL ...\n",
      "Downloading data from https://earthengine.googleapis.com/v1alpha/projects/earthengine-legacy/thumbnails/b3c63b230e3a448b7bf1c731de30072d-670059996b5a69ea7b27cf2f90bd3610:getPixels\n",
      "Please wait ...\n",
      "Data downloaded to /nfs/attic/dfh/Aragon2/Notebooks/preprocess_python/Downloads/2014090118.tif\n",
      "\n",
      "\n"
     ]
    }
   ],
   "source": [
    "cfsv2 = ee.ImageCollection('NOAA/CFSV2/FOR6H') \\\n",
    "    .filterBounds(my_domain2) \\\n",
    "    .filter(ee.Filter.date(begin,end))\n",
    "\n",
    "data = cfsv2.select('Temperature_height_above_ground', \\\n",
    "    'Geopotential_height_surface', \\\n",
    "    'v-component_of_wind_height_above_ground', \\\n",
    "    'Pressure_surface', \\\n",
    "    'Specific_humidity_height_above_ground', \\\n",
    "    'Precipitation_rate_surface_6_Hour_Average', \\\n",
    "    'Downward_Long-Wave_Radp_Flux_surface_6_Hour_Average', \\\n",
    "    'Downward_Short-Wave_Radiation_Flux_surface_6_Hour_Average')\n",
    "geemap.ee_export_image_collection(data, out_dir=out_dir,region=my_domain2,scale=22200,crs=epsg_code)"
   ]
  },
  {
   "cell_type": "markdown",
   "metadata": {},
   "source": [
    "# GEE data directly to numpy \n",
    "I think there should be a way to iterare through these to pull the data directly into a numpy array - but I cannot quite figure it out. \n",
    "This is a different package that could maybe be useful: https://github.com/gee-community/gee_tools/issues/27"
   ]
  },
  {
   "cell_type": "code",
   "execution_count": 96,
   "metadata": {},
   "outputs": [],
   "source": [
    "tair = cfsv2.select('Temperature_height_above_ground').toBands()\n",
    "elev = cfsv2.select('Geopotential_height_surface').toBands()\n",
    "uwind = cfsv2.select('u-component_of_wind_height_above_ground').toBands()\n",
    "vwind = cfsv2.select('v-component_of_wind_height_above_ground').toBands()\n",
    "surfpres = cfsv2.select('Pressure_surface').toBands()\n",
    "spechum = cfsv2.select('Specific_humidity_height_above_ground').toBands()\n",
    "prec = cfsv2.select('Precipitation_rate_surface_6_Hour_Average').toBands()\n",
    "lwr = cfsv2.select('Downward_Long-Wave_Radp_Flux_surface_6_Hour_Average').toBands()\n",
    "swr = cfsv2.select('Downward_Short-Wave_Radiation_Flux_surface_6_Hour_Average').toBands()"
   ]
  },
  {
   "cell_type": "code",
   "execution_count": 97,
   "metadata": {},
   "outputs": [
    {
     "data": {
      "text/plain": [
       "array([[[None, None, None, None]]], dtype=object)"
      ]
     },
     "execution_count": 97,
     "metadata": {},
     "output_type": "execute_result"
    }
   ],
   "source": [
    "rgb_img = geemap.ee_to_numpy(swr, region=my_domain)\n",
    "rgb_img"
   ]
  },
  {
   "cell_type": "code",
   "execution_count": null,
   "metadata": {},
   "outputs": [],
   "source": [
    "# from geetools import batch\n",
    "# import ee\n",
    "# geom = ee.Geometry.Point([-72,-42]).buffer(1000)\n",
    "# col = ee.ImageCollection.fromImages([ee.Image.random(1), ee.Image.random(2), ee.Image.random(3)])\n",
    "# size = col.size().getInfo()\n",
    "# clist = col.toList(size)\n",
    "# for i in range(size):\n",
    "#     image = ee.Image(clist.get(i))\n",
    "#     iid = image.id().getInfo()\n",
    "#     name = 'test_'+iid\n",
    "#     print('downloading '+name)\n",
    "#     batch.Image.toLocal(image, name, scale=100, region=geom)"
   ]
  }
 ],
 "metadata": {
  "kernelspec": {
   "display_name": "Python [conda env:ee]",
   "language": "python",
   "name": "conda-env-ee-py"
  },
  "language_info": {
   "codemirror_mode": {
    "name": "ipython",
    "version": 3
   },
   "file_extension": ".py",
   "mimetype": "text/x-python",
   "name": "python",
   "nbconvert_exporter": "python",
   "pygments_lexer": "ipython3",
   "version": "3.9.2"
  }
 },
 "nbformat": 4,
 "nbformat_minor": 4
}
