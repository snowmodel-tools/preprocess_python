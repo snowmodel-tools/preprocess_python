{
 "cells": [
  {
   "cell_type": "markdown",
   "metadata": {},
   "source": [
    "# CFSv2 Comparison and assessment\n",
    "\n",
    "12/17,11/2020"
   ]
  },
  {
   "cell_type": "markdown",
   "metadata": {},
   "source": [
    "## Dataset notes\n",
    "- There are met files for two time periods: 2011-2016 and 2018-2019\n",
    "- cfsv2_2018-09-01_2019-10-01_tair.tif: Starts 2018-09-01\n",
    "    - 6-hour time step\n",
    "    - The first time step is 00:00\n",
    "    - Per dataset metadata, there are 1580 time steps\n",
    "    - `xarray.DataArray (band: 1580, y: 14, x: 11)`\n",
    "    - Note how *regular* (rounded off) the spatial boundaries are, compared to what I get with my code and Ryan's original GEE lat-long bounding box\n",
    "\n",
    "## TO-DOs\n",
    "- Spatial alignment: Ensure the grid extent and cell resolution and boundary for the dataset I generate/download align with the sample dataset. This will take some iteration, but can do it on a single-time-step basis (processing a specified time interval will require a change to my code)\n",
    "- Actual comparisons: whole individual time steps; time series at points (lat, lon coords)"
   ]
  },
  {
   "cell_type": "code",
   "execution_count": 1,
   "metadata": {},
   "outputs": [],
   "source": [
    "%matplotlib inline\n",
    "import matplotlib.pyplot as plt\n",
    "from datetime import datetime, timedelta\n",
    "\n",
    "import xarray as xr\n",
    "from shapely.geometry import box\n",
    "import geopandas as gpd"
   ]
  },
  {
   "cell_type": "markdown",
   "metadata": {},
   "source": [
    "## Target bounding box"
   ]
  },
  {
   "cell_type": "code",
   "execution_count": 2,
   "metadata": {},
   "outputs": [],
   "source": [
    "bbox_latlon = gpd.GeoSeries(box(-111.155208, 42.363116, -109.477849, 44.582480), crs='epsg:4326')  # crs='epsg:32612'\n",
    "bbox = bbox_latlon.to_crs(epsg=32612)"
   ]
  },
  {
   "cell_type": "markdown",
   "metadata": {},
   "source": [
    "## GEE tif"
   ]
  },
  {
   "cell_type": "markdown",
   "metadata": {},
   "source": [
    "With `gdalinfo`:\n",
    "\n",
    "```bash\n",
    "mayorga@emilio-Lemur7:/home/mayorga/Downloads$ gdalinfo cfsv2_2018-09-01_2019-10-01_tair.tif\n",
    "Driver: GTiff/GeoTIFF\n",
    "Files: cfsv2_2018-09-01_2019-10-01_tair.tif\n",
    "Size is 11, 14\n",
    "Coordinate System is:\n",
    "PROJCRS[\"WGS 84 / UTM zone 12N\",\n",
    "    BASEGEOGCRS[\"WGS 84\",\n",
    "        DATUM[\"World Geodetic System 1984\",\n",
    "            ELLIPSOID[\"WGS 84\",6378137,298.257223563,\n",
    "                LENGTHUNIT[\"metre\",1]]],\n",
    "        PRIMEM[\"Greenwich\",0,\n",
    "            ANGLEUNIT[\"degree\",0.0174532925199433]],\n",
    "        ID[\"EPSG\",4326]],\n",
    "    CONVERSION[\"UTM zone 12N\",\n",
    "        METHOD[\"Transverse Mercator\",\n",
    "            ID[\"EPSG\",9807]],\n",
    "        PARAMETER[\"Latitude of natural origin\",0,\n",
    "            ANGLEUNIT[\"degree\",0.0174532925199433],\n",
    "            ID[\"EPSG\",8801]],\n",
    "        PARAMETER[\"Longitude of natural origin\",-111,\n",
    "            ANGLEUNIT[\"degree\",0.0174532925199433],\n",
    "            ID[\"EPSG\",8802]],\n",
    "        PARAMETER[\"Scale factor at natural origin\",0.9996,\n",
    "            SCALEUNIT[\"unity\",1],\n",
    "            ID[\"EPSG\",8805]],\n",
    "        PARAMETER[\"False easting\",500000,\n",
    "            LENGTHUNIT[\"metre\",1],\n",
    "            ID[\"EPSG\",8806]],\n",
    "        PARAMETER[\"False northing\",0,\n",
    "            LENGTHUNIT[\"metre\",1],\n",
    "            ID[\"EPSG\",8807]]],\n",
    "    CS[Cartesian,2],\n",
    "        AXIS[\"(E)\",east,\n",
    "            ORDER[1],\n",
    "            LENGTHUNIT[\"metre\",1]],\n",
    "        AXIS[\"(N)\",north,\n",
    "            ORDER[2],\n",
    "            LENGTHUNIT[\"metre\",1]],\n",
    "    USAGE[\n",
    "        SCOPE[\"unknown\"],\n",
    "        AREA[\"World - N hemisphere - 114°W to 108°W - by country\"],\n",
    "        BBOX[0,-114,84,-108]],\n",
    "    ID[\"EPSG\",32612]]\n",
    "Data axis to CRS axis mapping: 1,2\n",
    "Origin = (444000.000000000000000,4972800.000000000000000)\n",
    "Pixel Size = (22200.000000000000000,-22200.000000000000000)\n",
    "Metadata:\n",
    "  AREA_OR_POINT=Area\n",
    "Image Structure Metadata:\n",
    "  COMPRESSION=LZW\n",
    "  INTERLEAVE=PIXEL\n",
    "Corner Coordinates:\n",
    "Upper Left  (  444000.000, 4972800.000) (111d42'33.73\"W, 44d54'23.12\"N)\n",
    "Lower Left  (  444000.000, 4662000.000) (111d40'38.39\"W, 42d 6'29.14\"N)\n",
    "Upper Right (  688200.000, 4972800.000) (108d37' 1.04\"W, 44d53' 1.52\"N)\n",
    "Lower Right (  688200.000, 4662000.000) (108d43'28.12\"W, 42d 5'15.10\"N)\n",
    "Center      (  566100.000, 4817400.000) (110d10'56.25\"W, 43d30'23.79\"N)\n",
    "Band 1 Block=256x256 Type=Float32, ColorInterp=Gray\n",
    "Band 2 Block=256x256 Type=Float32, ColorInterp=Undefined\n",
    "...\n",
    "Band 1579 Block=256x256 Type=Float32, ColorInterp=Undefined\n",
    "Band 1580 Block=256x256 Type=Float32, ColorInterp=Undefined\n",
    "```"
   ]
  },
  {
   "cell_type": "code",
   "execution_count": 3,
   "metadata": {},
   "outputs": [],
   "source": [
    "gee_tif_fname = \"cfsv2_2018-09-01_2019-10-01_tair.tif\""
   ]
  },
  {
   "cell_type": "code",
   "execution_count": 4,
   "metadata": {},
   "outputs": [],
   "source": [
    "airt_gee_da = xr.open_rasterio(gee_tif_fname)"
   ]
  },
  {
   "cell_type": "markdown",
   "metadata": {},
   "source": [
    "TO-DO:\n",
    "- Set crs information correctly (per CF) in order for a direct comparison with the TDS-derived dataset to be possible\n",
    "- Note that what's returned is a data array, not a dataset"
   ]
  },
  {
   "cell_type": "code",
   "execution_count": 5,
   "metadata": {},
   "outputs": [
    {
     "name": "stdout",
     "output_type": "stream",
     "text": [
      "<xarray.DataArray (band: 1580, y: 14, x: 11)>\n",
      "[243320 values with dtype=float32]\n",
      "Coordinates:\n",
      "  * band     (band) int64 1 2 3 4 5 6 7 8 ... 1574 1575 1576 1577 1578 1579 1580\n",
      "  * y        (y) float64 4.962e+06 4.94e+06 4.917e+06 ... 4.695e+06 4.673e+06\n",
      "  * x        (x) float64 4.551e+05 4.773e+05 4.995e+05 ... 6.549e+05 6.771e+05\n",
      "Attributes:\n",
      "    transform:      (22200.0, 0.0, 444000.0, 0.0, -22200.0, 4972800.0)\n",
      "    crs:            +init=epsg:32612\n",
      "    res:            (22200.0, 22200.0)\n",
      "    is_tiled:       1\n",
      "    nodatavals:     (nan, nan, nan, nan, nan, nan, nan, nan, nan, nan, nan, n...\n",
      "    scales:         (1.0, 1.0, 1.0, 1.0, 1.0, 1.0, 1.0, 1.0, 1.0, 1.0, 1.0, 1...\n",
      "    offsets:        (0.0, 0.0, 0.0, 0.0, 0.0, 0.0, 0.0, 0.0, 0.0, 0.0, 0.0, 0...\n",
      "    AREA_OR_POINT:  Area\n"
     ]
    }
   ],
   "source": [
    "print(airt_gee_da)"
   ]
  },
  {
   "cell_type": "code",
   "execution_count": 6,
   "metadata": {},
   "outputs": [
    {
     "data": {
      "text/plain": [
       "(array(22200.), array(-22200.))"
      ]
     },
     "execution_count": 6,
     "metadata": {},
     "output_type": "execute_result"
    }
   ],
   "source": [
    "(airt_gee_da.x[1] - airt_gee_da.x[0]).values, (airt_gee_da.y[1] - airt_gee_da.y[0]).values"
   ]
  },
  {
   "cell_type": "code",
   "execution_count": 7,
   "metadata": {},
   "outputs": [
    {
     "data": {
      "text/plain": [
       "((array(455100.), array(677100.)), (array(4961700.), array(4673100.)))"
      ]
     },
     "execution_count": 7,
     "metadata": {},
     "output_type": "execute_result"
    }
   ],
   "source": [
    "(airt_gee_da.x[0].values, airt_gee_da.x[-1].values), (airt_gee_da.y[0].values, airt_gee_da.y[-1].values)"
   ]
  },
  {
   "cell_type": "markdown",
   "metadata": {},
   "source": [
    "Note that northing (y) coordinate values are sorted from high to low"
   ]
  },
  {
   "cell_type": "code",
   "execution_count": 8,
   "metadata": {},
   "outputs": [
    {
     "data": {
      "text/plain": [
       "1580"
      ]
     },
     "execution_count": 8,
     "metadata": {},
     "output_type": "execute_result"
    }
   ],
   "source": [
    "timesteps_cnt = len(airt_gee_da.coords['band'])\n",
    "timesteps_cnt"
   ]
  },
  {
   "cell_type": "code",
   "execution_count": 9,
   "metadata": {},
   "outputs": [
    {
     "data": {
      "text/plain": [
       "datetime.datetime(2019, 10, 1, 0, 0)"
      ]
     },
     "execution_count": 9,
     "metadata": {},
     "output_type": "execute_result"
    }
   ],
   "source": [
    "datetime(2018, 9, 1, 0, 0) + timesteps_cnt * timedelta(hours=6)"
   ]
  },
  {
   "cell_type": "code",
   "execution_count": 10,
   "metadata": {},
   "outputs": [
    {
     "data": {
      "image/png": "[encoded data removed]",
      "text/plain": [
       "<Figure size 720x360 with 4 Axes>"
      ]
     },
     "metadata": {
      "needs_background": "light"
     },
     "output_type": "display_data"
    }
   ],
   "source": [
    "# Note that using subplots forced an aspect ratio of \"equal\", with cells now being square\n",
    "# When plotting w/o subplots (just the data array plot), cells were not square\n",
    "f, ax = plt.subplots(ncols=2, figsize=(10, 5))\n",
    "\n",
    "# NOTE: band=0 is supposed to be 2018-09-01 00:00, but based on these plots, I'm not so sure ...\n",
    "airt_gee_da.isel(band=0).plot(ax=ax[0])\n",
    "bbox.plot(ax=ax[0], edgecolor='black', facecolor='none')\n",
    "\n",
    "airt_gee_da.isel(band=3).plot(ax=ax[1])\n",
    "bbox.plot(ax=ax[1], edgecolor='black', facecolor='none');"
   ]
  },
  {
   "cell_type": "markdown",
   "metadata": {},
   "source": [
    "## NetCDF from TDS"
   ]
  },
  {
   "cell_type": "markdown",
   "metadata": {},
   "source": [
    "- Generate new file spanning a time period covered by the GEE tif.\n",
    "- The current, recent data are in `CFSv2_OperationalAnalysis_WY_2018-09.nc`\n",
    "- **TO-DO:** When the reprojected resolution in TDS notebook is set to 20km (possibly coarser than the original resolution), some/many cells are set to the `_FillValue` but xarray didn't seem to properly apply the `_FillValue`. Need to investigate this"
   ]
  },
  {
   "cell_type": "code",
   "execution_count": 11,
   "metadata": {},
   "outputs": [],
   "source": [
    "tds_ds_fname = 'CFSv2_OperationalAnalysis_WY_2018-09.nc'"
   ]
  },
  {
   "cell_type": "code",
   "execution_count": 12,
   "metadata": {},
   "outputs": [
    {
     "data": {
      "text/html": [
       "<div><svg style=\"position: absolute; width: 0; height: 0; overflow: hidden\">\n",
       "<defs>\n",
       "<symbol id=\"icon-database\" viewBox=\"0 0 32 32\">\n",
       "<path d=\"M16 0c-8.837 0-16 2.239-16 5v4c0 2.761 7.163 5 16 5s16-2.239 16-5v-4c0-2.761-7.163-5-16-5z\"></path>\n",
       "<path d=\"M16 17c-8.837 0-16-2.239-16-5v6c0 2.761 7.163 5 16 5s16-2.239 16-5v-6c0 2.761-7.163 5-16 5z\"></path>\n",
       "<path d=\"M16 26c-8.837 0-16-2.239-16-5v6c0 2.761 7.163 5 16 5s16-2.239 16-5v-6c0 2.761-7.163 5-16 5z\"></path>\n",
       "</symbol>\n",
       "<symbol id=\"icon-file-text2\" viewBox=\"0 0 32 32\">\n",
       "<path d=\"M28.681 7.159c-0.694-0.947-1.662-2.053-2.724-3.116s-2.169-2.030-3.116-2.724c-1.612-1.182-2.393-1.319-2.841-1.319h-15.5c-1.378 0-2.5 1.121-2.5 2.5v27c0 1.378 1.122 2.5 2.5 2.5h23c1.378 0 2.5-1.122 2.5-2.5v-19.5c0-0.448-0.137-1.23-1.319-2.841zM24.543 5.457c0.959 0.959 1.712 1.825 2.268 2.543h-4.811v-4.811c0.718 0.556 1.584 1.309 2.543 2.268zM28 29.5c0 0.271-0.229 0.5-0.5 0.5h-23c-0.271 0-0.5-0.229-0.5-0.5v-27c0-0.271 0.229-0.5 0.5-0.5 0 0 15.499-0 15.5 0v7c0 0.552 0.448 1 1 1h7v19.5z\"></path>\n",
       "<path d=\"M23 26h-14c-0.552 0-1-0.448-1-1s0.448-1 1-1h14c0.552 0 1 0.448 1 1s-0.448 1-1 1z\"></path>\n",
       "<path d=\"M23 22h-14c-0.552 0-1-0.448-1-1s0.448-1 1-1h14c0.552 0 1 0.448 1 1s-0.448 1-1 1z\"></path>\n",
       "<path d=\"M23 18h-14c-0.552 0-1-0.448-1-1s0.448-1 1-1h14c0.552 0 1 0.448 1 1s-0.448 1-1 1z\"></path>\n",
       "</symbol>\n",
       "</defs>\n",
       "</svg>\n",
       "<style>/* CSS stylesheet for displaying xarray objects in jupyterlab.\n",
       " *\n",
       " */\n",
       "\n",
       ":root {\n",
       "  --xr-font-color0: var(--jp-content-font-color0, rgba(0, 0, 0, 1));\n",
       "  --xr-font-color2: var(--jp-content-font-color2, rgba(0, 0, 0, 0.54));\n",
       "  --xr-font-color3: var(--jp-content-font-color3, rgba(0, 0, 0, 0.38));\n",
       "  --xr-border-color: var(--jp-border-color2, #e0e0e0);\n",
       "  --xr-disabled-color: var(--jp-layout-color3, #bdbdbd);\n",
       "  --xr-background-color: var(--jp-layout-color0, white);\n",
       "  --xr-background-color-row-even: var(--jp-layout-color1, white);\n",
       "  --xr-background-color-row-odd: var(--jp-layout-color2, #eeeeee);\n",
       "}\n",
       "\n",
       "html[theme=dark],\n",
       "body.vscode-dark {\n",
       "  --xr-font-color0: rgba(255, 255, 255, 1);\n",
       "  --xr-font-color2: rgba(255, 255, 255, 0.54);\n",
       "  --xr-font-color3: rgba(255, 255, 255, 0.38);\n",
       "  --xr-border-color: #1F1F1F;\n",
       "  --xr-disabled-color: #515151;\n",
       "  --xr-background-color: #111111;\n",
       "  --xr-background-color-row-even: #111111;\n",
       "  --xr-background-color-row-odd: #313131;\n",
       "}\n",
       "\n",
       ".xr-wrap {\n",
       "  display: block;\n",
       "  min-width: 300px;\n",
       "  max-width: 700px;\n",
       "}\n",
       "\n",
       ".xr-text-repr-fallback {\n",
       "  /* fallback to plain text repr when CSS is not injected (untrusted notebook) */\n",
       "  display: none;\n",
       "}\n",
       "\n",
       ".xr-header {\n",
       "  padding-top: 6px;\n",
       "  padding-bottom: 6px;\n",
       "  margin-bottom: 4px;\n",
       "  border-bottom: solid 1px var(--xr-border-color);\n",
       "}\n",
       "\n",
       ".xr-header > div,\n",
       ".xr-header > ul {\n",
       "  display: inline;\n",
       "  margin-top: 0;\n",
       "  margin-bottom: 0;\n",
       "}\n",
       "\n",
       ".xr-obj-type,\n",
       ".xr-array-name {\n",
       "  margin-left: 2px;\n",
       "  margin-right: 10px;\n",
       "}\n",
       "\n",
       ".xr-obj-type {\n",
       "  color: var(--xr-font-color2);\n",
       "}\n",
       "\n",
       ".xr-sections {\n",
       "  padding-left: 0 !important;\n",
       "  display: grid;\n",
       "  grid-template-columns: 150px auto auto 1fr 20px 20px;\n",
       "}\n",
       "\n",
       ".xr-section-item {\n",
       "  display: contents;\n",
       "}\n",
       "\n",
       ".xr-section-item input {\n",
       "  display: none;\n",
       "}\n",
       "\n",
       ".xr-section-item input + label {\n",
       "  color: var(--xr-disabled-color);\n",
       "}\n",
       "\n",
       ".xr-section-item input:enabled + label {\n",
       "  cursor: pointer;\n",
       "  color: var(--xr-font-color2);\n",
       "}\n",
       "\n",
       ".xr-section-item input:enabled + label:hover {\n",
       "  color: var(--xr-font-color0);\n",
       "}\n",
       "\n",
       ".xr-section-summary {\n",
       "  grid-column: 1;\n",
       "  color: var(--xr-font-color2);\n",
       "  font-weight: 500;\n",
       "}\n",
       "\n",
       ".xr-section-summary > span {\n",
       "  display: inline-block;\n",
       "  padding-left: 0.5em;\n",
       "}\n",
       "\n",
       ".xr-section-summary-in:disabled + label {\n",
       "  color: var(--xr-font-color2);\n",
       "}\n",
       "\n",
       ".xr-section-summary-in + label:before {\n",
       "  display: inline-block;\n",
       "  content: '►';\n",
       "  font-size: 11px;\n",
       "  width: 15px;\n",
       "  text-align: center;\n",
       "}\n",
       "\n",
       ".xr-section-summary-in:disabled + label:before {\n",
       "  color: var(--xr-disabled-color);\n",
       "}\n",
       "\n",
       ".xr-section-summary-in:checked + label:before {\n",
       "  content: '▼';\n",
       "}\n",
       "\n",
       ".xr-section-summary-in:checked + label > span {\n",
       "  display: none;\n",
       "}\n",
       "\n",
       ".xr-section-summary,\n",
       ".xr-section-inline-details {\n",
       "  padding-top: 4px;\n",
       "  padding-bottom: 4px;\n",
       "}\n",
       "\n",
       ".xr-section-inline-details {\n",
       "  grid-column: 2 / -1;\n",
       "}\n",
       "\n",
       ".xr-section-details {\n",
       "  display: none;\n",
       "  grid-column: 1 / -1;\n",
       "  margin-bottom: 5px;\n",
       "}\n",
       "\n",
       ".xr-section-summary-in:checked ~ .xr-section-details {\n",
       "  display: contents;\n",
       "}\n",
       "\n",
       ".xr-array-wrap {\n",
       "  grid-column: 1 / -1;\n",
       "  display: grid;\n",
       "  grid-template-columns: 20px auto;\n",
       "}\n",
       "\n",
       ".xr-array-wrap > label {\n",
       "  grid-column: 1;\n",
       "  vertical-align: top;\n",
       "}\n",
       "\n",
       ".xr-preview {\n",
       "  color: var(--xr-font-color3);\n",
       "}\n",
       "\n",
       ".xr-array-preview,\n",
       ".xr-array-data {\n",
       "  padding: 0 5px !important;\n",
       "  grid-column: 2;\n",
       "}\n",
       "\n",
       ".xr-array-data,\n",
       ".xr-array-in:checked ~ .xr-array-preview {\n",
       "  display: none;\n",
       "}\n",
       "\n",
       ".xr-array-in:checked ~ .xr-array-data,\n",
       ".xr-array-preview {\n",
       "  display: inline-block;\n",
       "}\n",
       "\n",
       ".xr-dim-list {\n",
       "  display: inline-block !important;\n",
       "  list-style: none;\n",
       "  padding: 0 !important;\n",
       "  margin: 0;\n",
       "}\n",
       "\n",
       ".xr-dim-list li {\n",
       "  display: inline-block;\n",
       "  padding: 0;\n",
       "  margin: 0;\n",
       "}\n",
       "\n",
       ".xr-dim-list:before {\n",
       "  content: '(';\n",
       "}\n",
       "\n",
       ".xr-dim-list:after {\n",
       "  content: ')';\n",
       "}\n",
       "\n",
       ".xr-dim-list li:not(:last-child):after {\n",
       "  content: ',';\n",
       "  padding-right: 5px;\n",
       "}\n",
       "\n",
       ".xr-has-index {\n",
       "  font-weight: bold;\n",
       "}\n",
       "\n",
       ".xr-var-list,\n",
       ".xr-var-item {\n",
       "  display: contents;\n",
       "}\n",
       "\n",
       ".xr-var-item > div,\n",
       ".xr-var-item label,\n",
       ".xr-var-item > .xr-var-name span {\n",
       "  background-color: var(--xr-background-color-row-even);\n",
       "  margin-bottom: 0;\n",
       "}\n",
       "\n",
       ".xr-var-item > .xr-var-name:hover span {\n",
       "  padding-right: 5px;\n",
       "}\n",
       "\n",
       ".xr-var-list > li:nth-child(odd) > div,\n",
       ".xr-var-list > li:nth-child(odd) > label,\n",
       ".xr-var-list > li:nth-child(odd) > .xr-var-name span {\n",
       "  background-color: var(--xr-background-color-row-odd);\n",
       "}\n",
       "\n",
       ".xr-var-name {\n",
       "  grid-column: 1;\n",
       "}\n",
       "\n",
       ".xr-var-dims {\n",
       "  grid-column: 2;\n",
       "}\n",
       "\n",
       ".xr-var-dtype {\n",
       "  grid-column: 3;\n",
       "  text-align: right;\n",
       "  color: var(--xr-font-color2);\n",
       "}\n",
       "\n",
       ".xr-var-preview {\n",
       "  grid-column: 4;\n",
       "}\n",
       "\n",
       ".xr-var-name,\n",
       ".xr-var-dims,\n",
       ".xr-var-dtype,\n",
       ".xr-preview,\n",
       ".xr-attrs dt {\n",
       "  white-space: nowrap;\n",
       "  overflow: hidden;\n",
       "  text-overflow: ellipsis;\n",
       "  padding-right: 10px;\n",
       "}\n",
       "\n",
       ".xr-var-name:hover,\n",
       ".xr-var-dims:hover,\n",
       ".xr-var-dtype:hover,\n",
       ".xr-attrs dt:hover {\n",
       "  overflow: visible;\n",
       "  width: auto;\n",
       "  z-index: 1;\n",
       "}\n",
       "\n",
       ".xr-var-attrs,\n",
       ".xr-var-data {\n",
       "  display: none;\n",
       "  background-color: var(--xr-background-color) !important;\n",
       "  padding-bottom: 5px !important;\n",
       "}\n",
       "\n",
       ".xr-var-attrs-in:checked ~ .xr-var-attrs,\n",
       ".xr-var-data-in:checked ~ .xr-var-data {\n",
       "  display: block;\n",
       "}\n",
       "\n",
       ".xr-var-data > table {\n",
       "  float: right;\n",
       "}\n",
       "\n",
       ".xr-var-name span,\n",
       ".xr-var-data,\n",
       ".xr-attrs {\n",
       "  padding-left: 25px !important;\n",
       "}\n",
       "\n",
       ".xr-attrs,\n",
       ".xr-var-attrs,\n",
       ".xr-var-data {\n",
       "  grid-column: 1 / -1;\n",
       "}\n",
       "\n",
       "dl.xr-attrs {\n",
       "  padding: 0;\n",
       "  margin: 0;\n",
       "  display: grid;\n",
       "  grid-template-columns: 125px auto;\n",
       "}\n",
       "\n",
       ".xr-attrs dt,\n",
       ".xr-attrs dd {\n",
       "  padding: 0;\n",
       "  margin: 0;\n",
       "  float: left;\n",
       "  padding-right: 10px;\n",
       "  width: auto;\n",
       "}\n",
       "\n",
       ".xr-attrs dt {\n",
       "  font-weight: normal;\n",
       "  grid-column: 1;\n",
       "}\n",
       "\n",
       ".xr-attrs dt:hover span {\n",
       "  display: inline-block;\n",
       "  background: var(--xr-background-color);\n",
       "  padding-right: 10px;\n",
       "}\n",
       "\n",
       ".xr-attrs dd {\n",
       "  grid-column: 2;\n",
       "  white-space: pre-wrap;\n",
       "  word-break: break-all;\n",
       "}\n",
       "\n",
       ".xr-icon-database,\n",
       ".xr-icon-file-text2 {\n",
       "  display: inline-block;\n",
       "  vertical-align: middle;\n",
       "  width: 1em;\n",
       "  height: 1.5em !important;\n",
       "  stroke-width: 0;\n",
       "  stroke: currentColor;\n",
       "  fill: currentColor;\n",
       "}\n",
       "</style><pre class='xr-text-repr-fallback'>&lt;xarray.Dataset&gt;\n",
       "Dimensions:                                                    (easting: 15, northing: 22, time: 12)\n",
       "Coordinates:\n",
       "  * easting                                                    (easting) float64 ...\n",
       "  * northing                                                   (northing) float64 ...\n",
       "  * time                                                       (time) datetime64[ns] ...\n",
       "    crs                                                        int64 0\n",
       "Data variables:\n",
       "    u-component_of_wind_height_above_ground                    (time, northing, easting) float32 ...\n",
       "    Downward_Long-Wave_Radp_Flux_surface                       (time, northing, easting) float32 ...\n",
       "    Temperature_height_above_ground                            (time, northing, easting) float32 ...\n",
       "    Geopotential_height_surface                                (time, northing, easting) float32 ...\n",
       "    Precipitation_rate_surface_6_Hour_Average                  (time, northing, easting) float32 ...\n",
       "    Specific_humidity_height_above_ground                      (time, northing, easting) float32 ...\n",
       "    Pressure_surface                                           (time, northing, easting) float32 ...\n",
       "    v-component_of_wind_height_above_ground                    (time, northing, easting) float32 ...\n",
       "    Downward_Short-Wave_Radiation_Flux_surface_6_Hour_Average  (time, northing, easting) float32 ...\n",
       "Attributes:\n",
       "    Originating_or_generating_Center:                                        ...\n",
       "    Originating_or_generating_Subcenter:                                     ...\n",
       "    GRIB_table_version:                                                      ...\n",
       "    Type_of_generating_process:                                              ...\n",
       "    Analysis_or_forecast_generating_process_identifier_defined_by_originating...\n",
       "    Conventions:                                                             ...\n",
       "    history:                                                                 ...\n",
       "    featureType:                                                             ...\n",
       "    History:                                                                 ...\n",
       "    geospatial_lat_min:                                                      ...\n",
       "    geospatial_lat_max:                                                      ...\n",
       "    geospatial_lon_min:                                                      ...\n",
       "    geospatial_lon_max:                                                      ...\n",
       "    grid_mapping:                                                            ...</pre><div class='xr-wrap' hidden><div class='xr-header'><div class='xr-obj-type'>xarray.Dataset</div></div><ul class='xr-sections'><li class='xr-section-item'><input id='section-56bcecf6-dee0-4ce3-8603-31ea39303e4a' class='xr-section-summary-in' type='checkbox' disabled ><label for='section-56bcecf6-dee0-4ce3-8603-31ea39303e4a' class='xr-section-summary'  title='Expand/collapse section'>Dimensions:</label><div class='xr-section-inline-details'><ul class='xr-dim-list'><li><span class='xr-has-index'>easting</span>: 15</li><li><span class='xr-has-index'>northing</span>: 22</li><li><span class='xr-has-index'>time</span>: 12</li></ul></div><div class='xr-section-details'></div></li><li class='xr-section-item'><input id='section-3cd1a245-6647-4815-b615-60ba51430bec' class='xr-section-summary-in' type='checkbox'  checked><label for='section-3cd1a245-6647-4815-b615-60ba51430bec' class='xr-section-summary' >Coordinates: <span>(4)</span></label><div class='xr-section-inline-details'></div><div class='xr-section-details'><ul class='xr-var-list'><li class='xr-var-item'><div class='xr-var-name'><span class='xr-has-index'>easting</span></div><div class='xr-var-dims'>(easting)</div><div class='xr-var-dtype'>float64</div><div class='xr-var-preview xr-preview'>4.112e+05 4.334e+05 ... 7.22e+05</div><input id='attrs-45c5be34-0e8f-49fa-a602-837aed57d926' class='xr-var-attrs-in' type='checkbox' ><label for='attrs-45c5be34-0e8f-49fa-a602-837aed57d926' title='Show/Hide attributes'><svg class='icon xr-icon-file-text2'><use xlink:href='#icon-file-text2'></use></svg></label><input id='data-3f8eda19-18ab-4f2a-91d1-6def7e15e7d6' class='xr-var-data-in' type='checkbox'><label for='data-3f8eda19-18ab-4f2a-91d1-6def7e15e7d6' title='Show/Hide data repr'><svg class='icon xr-icon-database'><use xlink:href='#icon-database'></use></svg></label><div class='xr-var-attrs'><dl class='xr-attrs'><dt><span>axis :</span></dt><dd>X</dd><dt><span>long_name :</span></dt><dd>Easting</dd><dt><span>standard_name :</span></dt><dd>projection_x_coordinate</dd><dt><span>units :</span></dt><dd>metre</dd></dl></div><div class='xr-var-data'><pre>array([411173.218824, 433373.218824, 455573.218824, 477773.218824,\n",
       "       499973.218824, 522173.218824, 544373.218824, 566573.218824,\n",
       "       588773.218824, 610973.218824, 633173.218824, 655373.218824,\n",
       "       677573.218824, 699773.218824, 721973.218824])</pre></div></li><li class='xr-var-item'><div class='xr-var-name'><span class='xr-has-index'>northing</span></div><div class='xr-var-dims'>(northing)</div><div class='xr-var-dtype'>float64</div><div class='xr-var-preview xr-preview'>5.041e+06 5.018e+06 ... 4.574e+06</div><input id='attrs-6607bb5f-1805-4d37-b496-ade16c1fab24' class='xr-var-attrs-in' type='checkbox' ><label for='attrs-6607bb5f-1805-4d37-b496-ade16c1fab24' title='Show/Hide attributes'><svg class='icon xr-icon-file-text2'><use xlink:href='#icon-file-text2'></use></svg></label><input id='data-724ece0f-ea1c-4084-b0d0-dd68520f32d2' class='xr-var-data-in' type='checkbox'><label for='data-724ece0f-ea1c-4084-b0d0-dd68520f32d2' title='Show/Hide data repr'><svg class='icon xr-icon-database'><use xlink:href='#icon-database'></use></svg></label><div class='xr-var-attrs'><dl class='xr-attrs'><dt><span>axis :</span></dt><dd>Y</dd><dt><span>long_name :</span></dt><dd>Northing</dd><dt><span>standard_name :</span></dt><dd>projection_y_coordinate</dd><dt><span>units :</span></dt><dd>metre</dd></dl></div><div class='xr-var-data'><pre>array([5040670.059472, 5018470.059472, 4996270.059472, 4974070.059472,\n",
       "       4951870.059472, 4929670.059472, 4907470.059472, 4885270.059472,\n",
       "       4863070.059472, 4840870.059472, 4818670.059472, 4796470.059472,\n",
       "       4774270.059472, 4752070.059472, 4729870.059472, 4707670.059472,\n",
       "       4685470.059472, 4663270.059472, 4641070.059472, 4618870.059472,\n",
       "       4596670.059472, 4574470.059472])</pre></div></li><li class='xr-var-item'><div class='xr-var-name'><span class='xr-has-index'>time</span></div><div class='xr-var-dims'>(time)</div><div class='xr-var-dtype'>datetime64[ns]</div><div class='xr-var-preview xr-preview'>2018-08-31T06:00:00 ... 2018-09-03</div><input id='attrs-9be95bcf-cb41-4e03-b39c-ef7b66575951' class='xr-var-attrs-in' type='checkbox' ><label for='attrs-9be95bcf-cb41-4e03-b39c-ef7b66575951' title='Show/Hide attributes'><svg class='icon xr-icon-file-text2'><use xlink:href='#icon-file-text2'></use></svg></label><input id='data-9da17329-bb71-4716-9c21-c766c3ea5f38' class='xr-var-data-in' type='checkbox'><label for='data-9da17329-bb71-4716-9c21-c766c3ea5f38' title='Show/Hide data repr'><svg class='icon xr-icon-database'><use xlink:href='#icon-database'></use></svg></label><div class='xr-var-attrs'><dl class='xr-attrs'><dt><span>standard_name :</span></dt><dd>time</dd><dt><span>long_name :</span></dt><dd>GRIB forecast or observation time</dd><dt><span>_CoordinateAxisType :</span></dt><dd>Time</dd></dl></div><div class='xr-var-data'><pre>array([&#x27;2018-08-31T06:00:00.000000000&#x27;, &#x27;2018-08-31T12:00:00.000000000&#x27;,\n",
       "       &#x27;2018-08-31T18:00:00.000000000&#x27;, &#x27;2018-09-01T00:00:00.000000000&#x27;,\n",
       "       &#x27;2018-09-01T06:00:00.000000000&#x27;, &#x27;2018-09-01T12:00:00.000000000&#x27;,\n",
       "       &#x27;2018-09-01T18:00:00.000000000&#x27;, &#x27;2018-09-02T00:00:00.000000000&#x27;,\n",
       "       &#x27;2018-09-02T06:00:00.000000000&#x27;, &#x27;2018-09-02T12:00:00.000000000&#x27;,\n",
       "       &#x27;2018-09-02T18:00:00.000000000&#x27;, &#x27;2018-09-03T00:00:00.000000000&#x27;],\n",
       "      dtype=&#x27;datetime64[ns]&#x27;)</pre></div></li><li class='xr-var-item'><div class='xr-var-name'><span>crs</span></div><div class='xr-var-dims'>()</div><div class='xr-var-dtype'>int64</div><div class='xr-var-preview xr-preview'>...</div><input id='attrs-22a535bc-a97d-480e-95ce-b81fc78d3c73' class='xr-var-attrs-in' type='checkbox' ><label for='attrs-22a535bc-a97d-480e-95ce-b81fc78d3c73' title='Show/Hide attributes'><svg class='icon xr-icon-file-text2'><use xlink:href='#icon-file-text2'></use></svg></label><input id='data-5af7d88c-53c1-4506-ad1e-1a0094d22edd' class='xr-var-data-in' type='checkbox'><label for='data-5af7d88c-53c1-4506-ad1e-1a0094d22edd' title='Show/Hide data repr'><svg class='icon xr-icon-database'><use xlink:href='#icon-database'></use></svg></label><div class='xr-var-attrs'><dl class='xr-attrs'><dt><span>crs_wkt :</span></dt><dd>PROJCRS[&quot;WGS 84 / UTM zone 12N&quot;,BASEGEOGCRS[&quot;WGS 84&quot;,DATUM[&quot;World Geodetic System 1984&quot;,ELLIPSOID[&quot;WGS 84&quot;,6378137,298.257223563,LENGTHUNIT[&quot;metre&quot;,1]]],PRIMEM[&quot;Greenwich&quot;,0,ANGLEUNIT[&quot;degree&quot;,0.0174532925199433]],ID[&quot;EPSG&quot;,4326]],CONVERSION[&quot;UTM zone 12N&quot;,METHOD[&quot;Transverse Mercator&quot;,ID[&quot;EPSG&quot;,9807]],PARAMETER[&quot;Latitude of natural origin&quot;,0,ANGLEUNIT[&quot;degree&quot;,0.0174532925199433],ID[&quot;EPSG&quot;,8801]],PARAMETER[&quot;Longitude of natural origin&quot;,-111,ANGLEUNIT[&quot;degree&quot;,0.0174532925199433],ID[&quot;EPSG&quot;,8802]],PARAMETER[&quot;Scale factor at natural origin&quot;,0.9996,SCALEUNIT[&quot;unity&quot;,1],ID[&quot;EPSG&quot;,8805]],PARAMETER[&quot;False easting&quot;,500000,LENGTHUNIT[&quot;metre&quot;,1],ID[&quot;EPSG&quot;,8806]],PARAMETER[&quot;False northing&quot;,0,LENGTHUNIT[&quot;metre&quot;,1],ID[&quot;EPSG&quot;,8807]]],CS[Cartesian,2],AXIS[&quot;easting&quot;,east,ORDER[1],LENGTHUNIT[&quot;metre&quot;,1]],AXIS[&quot;northing&quot;,north,ORDER[2],LENGTHUNIT[&quot;metre&quot;,1]],ID[&quot;EPSG&quot;,32612]]</dd><dt><span>semi_major_axis :</span></dt><dd>6378137.0</dd><dt><span>semi_minor_axis :</span></dt><dd>6356752.314245179</dd><dt><span>inverse_flattening :</span></dt><dd>298.257223563</dd><dt><span>reference_ellipsoid_name :</span></dt><dd>WGS 84</dd><dt><span>longitude_of_prime_meridian :</span></dt><dd>0.0</dd><dt><span>prime_meridian_name :</span></dt><dd>Greenwich</dd><dt><span>geographic_crs_name :</span></dt><dd>WGS 84</dd><dt><span>horizontal_datum_name :</span></dt><dd>World Geodetic System 1984</dd><dt><span>projected_crs_name :</span></dt><dd>WGS 84 / UTM zone 12N</dd><dt><span>grid_mapping_name :</span></dt><dd>transverse_mercator</dd><dt><span>latitude_of_projection_origin :</span></dt><dd>0.0</dd><dt><span>longitude_of_central_meridian :</span></dt><dd>-111.0</dd><dt><span>false_easting :</span></dt><dd>500000.0</dd><dt><span>false_northing :</span></dt><dd>0.0</dd><dt><span>scale_factor_at_central_meridian :</span></dt><dd>0.9996</dd><dt><span>spatial_ref :</span></dt><dd>PROJCRS[&quot;WGS 84 / UTM zone 12N&quot;,BASEGEOGCRS[&quot;WGS 84&quot;,DATUM[&quot;World Geodetic System 1984&quot;,ELLIPSOID[&quot;WGS 84&quot;,6378137,298.257223563,LENGTHUNIT[&quot;metre&quot;,1]]],PRIMEM[&quot;Greenwich&quot;,0,ANGLEUNIT[&quot;degree&quot;,0.0174532925199433]],ID[&quot;EPSG&quot;,4326]],CONVERSION[&quot;UTM zone 12N&quot;,METHOD[&quot;Transverse Mercator&quot;,ID[&quot;EPSG&quot;,9807]],PARAMETER[&quot;Latitude of natural origin&quot;,0,ANGLEUNIT[&quot;degree&quot;,0.0174532925199433],ID[&quot;EPSG&quot;,8801]],PARAMETER[&quot;Longitude of natural origin&quot;,-111,ANGLEUNIT[&quot;degree&quot;,0.0174532925199433],ID[&quot;EPSG&quot;,8802]],PARAMETER[&quot;Scale factor at natural origin&quot;,0.9996,SCALEUNIT[&quot;unity&quot;,1],ID[&quot;EPSG&quot;,8805]],PARAMETER[&quot;False easting&quot;,500000,LENGTHUNIT[&quot;metre&quot;,1],ID[&quot;EPSG&quot;,8806]],PARAMETER[&quot;False northing&quot;,0,LENGTHUNIT[&quot;metre&quot;,1],ID[&quot;EPSG&quot;,8807]]],CS[Cartesian,2],AXIS[&quot;easting&quot;,east,ORDER[1],LENGTHUNIT[&quot;metre&quot;,1]],AXIS[&quot;northing&quot;,north,ORDER[2],LENGTHUNIT[&quot;metre&quot;,1]],ID[&quot;EPSG&quot;,32612]]</dd><dt><span>GeoTransform :</span></dt><dd>400073.21882389695 22200.0 0.0 5051770.059471507 0.0 -22200.0</dd></dl></div><div class='xr-var-data'><pre>array(0)</pre></div></li></ul></div></li><li class='xr-section-item'><input id='section-3a7d1a03-06ff-4c48-92a0-2d8f953a6e42' class='xr-section-summary-in' type='checkbox'  checked><label for='section-3a7d1a03-06ff-4c48-92a0-2d8f953a6e42' class='xr-section-summary' >Data variables: <span>(9)</span></label><div class='xr-section-inline-details'></div><div class='xr-section-details'><ul class='xr-var-list'><li class='xr-var-item'><div class='xr-var-name'><span>u-component_of_wind_height_above_ground</span></div><div class='xr-var-dims'>(time, northing, easting)</div><div class='xr-var-dtype'>float32</div><div class='xr-var-preview xr-preview'>...</div><input id='attrs-bc55a367-6c8f-45ea-8d54-97080cb53e14' class='xr-var-attrs-in' type='checkbox' ><label for='attrs-bc55a367-6c8f-45ea-8d54-97080cb53e14' title='Show/Hide attributes'><svg class='icon xr-icon-file-text2'><use xlink:href='#icon-file-text2'></use></svg></label><input id='data-91a21a68-657d-4af7-a166-09810fad9c13' class='xr-var-data-in' type='checkbox'><label for='data-91a21a68-657d-4af7-a166-09810fad9c13' title='Show/Hide data repr'><svg class='icon xr-icon-database'><use xlink:href='#icon-database'></use></svg></label><div class='xr-var-attrs'><dl class='xr-attrs'><dt><span>long_name :</span></dt><dd>u-component of wind @ Specified height level above ground</dd><dt><span>units :</span></dt><dd>m/s</dd><dt><span>abbreviation :</span></dt><dd>UGRD</dd><dt><span>grid_mapping :</span></dt><dd>crs</dd><dt><span>Grib_Variable_Id :</span></dt><dd>VAR_0-2-2_L103</dd><dt><span>Grib2_Parameter :</span></dt><dd>[0 2 2]</dd><dt><span>Grib2_Parameter_Discipline :</span></dt><dd>Meteorological products</dd><dt><span>Grib2_Parameter_Category :</span></dt><dd>Momentum</dd><dt><span>Grib2_Parameter_Name :</span></dt><dd>u-component of wind</dd><dt><span>Grib2_Level_Type :</span></dt><dd>103</dd><dt><span>Grib2_Level_Desc :</span></dt><dd>Specified height level above ground</dd><dt><span>Grib2_Generating_Process_Type :</span></dt><dd>Forecast</dd><dt><span>height_above_ground :</span></dt><dd>10.0m</dd><dt><span>coordinates :</span></dt><dd>time1 height_above_ground1 lat lon </dd></dl></div><div class='xr-var-data'><pre>array([[[ 0.38,  0.16, ...,  3.5 ,   nan],\n",
       "        [ 0.84,  0.81, ...,  1.73,   nan],\n",
       "        ...,\n",
       "        [-0.98, -0.75, ...,  2.08,  1.93],\n",
       "        [-1.08, -0.86, ...,   nan,   nan]],\n",
       "\n",
       "       [[-0.69, -0.85, ...,  2.06,   nan],\n",
       "        [-0.56, -0.72, ...,  1.84,   nan],\n",
       "        ...,\n",
       "        [-0.57, -0.14, ...,  1.15,  0.58],\n",
       "        [-1.25, -0.81, ...,   nan,   nan]],\n",
       "\n",
       "       ...,\n",
       "\n",
       "       [[ 1.34,  1.42, ..., -0.13,   nan],\n",
       "        [ 1.81,  1.96, ...,  0.39,   nan],\n",
       "        ...,\n",
       "        [ 2.24,  2.73, ...,  2.87,  2.46],\n",
       "        [ 2.17,  2.64, ...,   nan,   nan]],\n",
       "\n",
       "       [[ 1.84,  1.74, ..., -1.51,   nan],\n",
       "        [ 2.21,  2.39, ..., -0.79,   nan],\n",
       "        ...,\n",
       "        [ 1.67,  2.77, ...,  2.06,  1.35],\n",
       "        [ 0.91,  2.37, ...,   nan,   nan]]], dtype=float32)</pre></div></li><li class='xr-var-item'><div class='xr-var-name'><span>Downward_Long-Wave_Radp_Flux_surface</span></div><div class='xr-var-dims'>(time, northing, easting)</div><div class='xr-var-dtype'>float32</div><div class='xr-var-preview xr-preview'>...</div><input id='attrs-ebdf4820-a4be-443f-95c8-ab99d24ed923' class='xr-var-attrs-in' type='checkbox' ><label for='attrs-ebdf4820-a4be-443f-95c8-ab99d24ed923' title='Show/Hide attributes'><svg class='icon xr-icon-file-text2'><use xlink:href='#icon-file-text2'></use></svg></label><input id='data-8b42f7ff-0d4e-4469-bd7e-60520999a56c' class='xr-var-data-in' type='checkbox'><label for='data-8b42f7ff-0d4e-4469-bd7e-60520999a56c' title='Show/Hide data repr'><svg class='icon xr-icon-database'><use xlink:href='#icon-database'></use></svg></label><div class='xr-var-attrs'><dl class='xr-attrs'><dt><span>long_name :</span></dt><dd>Downward Long-Wave Rad. Flux @ Ground or water surface</dd><dt><span>units :</span></dt><dd>W.m-2</dd><dt><span>abbreviation :</span></dt><dd>DLWRF</dd><dt><span>grid_mapping :</span></dt><dd>crs</dd><dt><span>Grib_Variable_Id :</span></dt><dd>VAR_0-5-192_L1</dd><dt><span>Grib2_Parameter :</span></dt><dd>[  0   5 192]</dd><dt><span>Grib2_Parameter_Discipline :</span></dt><dd>Meteorological products</dd><dt><span>Grib2_Parameter_Category :</span></dt><dd>Long wave radiation</dd><dt><span>Grib2_Parameter_Name :</span></dt><dd>Downward Long-Wave Rad. Flux</dd><dt><span>Grib2_Level_Type :</span></dt><dd>1</dd><dt><span>Grib2_Level_Desc :</span></dt><dd>Ground or water surface</dd><dt><span>Grib2_Generating_Process_Type :</span></dt><dd>Forecast</dd><dt><span>coordinates :</span></dt><dd>time1 lat lon </dd></dl></div><div class='xr-var-data'><pre>array([[[314., 311., ..., 316.,  nan],\n",
       "        [303., 298., ..., 300.,  nan],\n",
       "        ...,\n",
       "        [299., 291., ..., 304., 308.],\n",
       "        [305., 297., ...,  nan,  nan]],\n",
       "\n",
       "       [[313., 312., ..., 300.,  nan],\n",
       "        [310., 305., ..., 294.,  nan],\n",
       "        ...,\n",
       "        [288., 282., ..., 342., 344.],\n",
       "        [288., 280., ...,  nan,  nan]],\n",
       "\n",
       "       ...,\n",
       "\n",
       "       [[285., 284., ..., 317.,  nan],\n",
       "        [281., 277., ..., 304.,  nan],\n",
       "        ...,\n",
       "        [307., 300., ..., 281., 283.],\n",
       "        [307., 299., ...,  nan,  nan]],\n",
       "\n",
       "       [[290., 290., ..., 322.,  nan],\n",
       "        [287., 284., ..., 313.,  nan],\n",
       "        ...,\n",
       "        [305., 298., ..., 285., 286.],\n",
       "        [304., 295., ...,  nan,  nan]]], dtype=float32)</pre></div></li><li class='xr-var-item'><div class='xr-var-name'><span>Temperature_height_above_ground</span></div><div class='xr-var-dims'>(time, northing, easting)</div><div class='xr-var-dtype'>float32</div><div class='xr-var-preview xr-preview'>...</div><input id='attrs-20fcea8f-8e55-4332-a3cd-2c79d6012241' class='xr-var-attrs-in' type='checkbox' ><label for='attrs-20fcea8f-8e55-4332-a3cd-2c79d6012241' title='Show/Hide attributes'><svg class='icon xr-icon-file-text2'><use xlink:href='#icon-file-text2'></use></svg></label><input id='data-6141b880-3b9c-4d0c-b638-9cd9e0b78484' class='xr-var-data-in' type='checkbox'><label for='data-6141b880-3b9c-4d0c-b638-9cd9e0b78484' title='Show/Hide data repr'><svg class='icon xr-icon-database'><use xlink:href='#icon-database'></use></svg></label><div class='xr-var-attrs'><dl class='xr-attrs'><dt><span>long_name :</span></dt><dd>Temperature @ Specified height level above ground</dd><dt><span>units :</span></dt><dd>K</dd><dt><span>abbreviation :</span></dt><dd>TMP</dd><dt><span>grid_mapping :</span></dt><dd>crs</dd><dt><span>Grib_Variable_Id :</span></dt><dd>VAR_0-0-0_L103</dd><dt><span>Grib2_Parameter :</span></dt><dd>[0 0 0]</dd><dt><span>Grib2_Parameter_Discipline :</span></dt><dd>Meteorological products</dd><dt><span>Grib2_Parameter_Category :</span></dt><dd>Temperature</dd><dt><span>Grib2_Parameter_Name :</span></dt><dd>Temperature</dd><dt><span>Grib2_Level_Type :</span></dt><dd>103</dd><dt><span>Grib2_Level_Desc :</span></dt><dd>Specified height level above ground</dd><dt><span>Grib2_Generating_Process_Type :</span></dt><dd>Forecast</dd><dt><span>height_above_ground :</span></dt><dd>2.0m</dd><dt><span>coordinates :</span></dt><dd>time1 height_above_ground lat lon </dd></dl></div><div class='xr-var-data'><pre>array([[[283.085, 282.863, ..., 289.615,     nan],\n",
       "        [282.505, 281.585, ..., 286.845,     nan],\n",
       "        ...,\n",
       "        [287.005, 283.621, ..., 290.309, 290.655],\n",
       "        [286.825, 284.571, ...,     nan,     nan]],\n",
       "\n",
       "       [[282.503, 282.377, ..., 285.861,     nan],\n",
       "        [281.485, 280.593, ..., 284.093,     nan],\n",
       "        ...,\n",
       "        [283.511, 280.947, ..., 288.813, 289.007],\n",
       "        [283.877, 281.001, ...,     nan,     nan]],\n",
       "\n",
       "       ...,\n",
       "\n",
       "       [[294.035, 293.331, ..., 295.287,     nan],\n",
       "        [293.451, 292.375, ..., 293.375,     nan],\n",
       "        ...,\n",
       "        [299.899, 298.297, ..., 296.125, 296.261],\n",
       "        [299.887, 298.095, ...,     nan,     nan]],\n",
       "\n",
       "       [[294.886, 294.522, ..., 297.46 ,     nan],\n",
       "        [294.524, 293.586, ..., 296.386,     nan],\n",
       "        ...,\n",
       "        [299.624, 297.96 , ..., 297.078, 297.304],\n",
       "        [299.29 , 297.548, ...,     nan,     nan]]], dtype=float32)</pre></div></li><li class='xr-var-item'><div class='xr-var-name'><span>Geopotential_height_surface</span></div><div class='xr-var-dims'>(time, northing, easting)</div><div class='xr-var-dtype'>float32</div><div class='xr-var-preview xr-preview'>...</div><input id='attrs-77c10fb1-9f32-44e3-ba46-4ce83cb9a633' class='xr-var-attrs-in' type='checkbox' ><label for='attrs-77c10fb1-9f32-44e3-ba46-4ce83cb9a633' title='Show/Hide attributes'><svg class='icon xr-icon-file-text2'><use xlink:href='#icon-file-text2'></use></svg></label><input id='data-02975658-1ee4-4453-9688-d2ab7f8b31de' class='xr-var-data-in' type='checkbox'><label for='data-02975658-1ee4-4453-9688-d2ab7f8b31de' title='Show/Hide data repr'><svg class='icon xr-icon-database'><use xlink:href='#icon-database'></use></svg></label><div class='xr-var-attrs'><dl class='xr-attrs'><dt><span>long_name :</span></dt><dd>Geopotential height @ Ground or water surface</dd><dt><span>units :</span></dt><dd>gpm</dd><dt><span>abbreviation :</span></dt><dd>HGT</dd><dt><span>grid_mapping :</span></dt><dd>crs</dd><dt><span>Grib_Variable_Id :</span></dt><dd>VAR_0-3-5_L1</dd><dt><span>Grib2_Parameter :</span></dt><dd>[0 3 5]</dd><dt><span>Grib2_Parameter_Discipline :</span></dt><dd>Meteorological products</dd><dt><span>Grib2_Parameter_Category :</span></dt><dd>Mass</dd><dt><span>Grib2_Parameter_Name :</span></dt><dd>Geopotential height</dd><dt><span>Grib2_Level_Type :</span></dt><dd>1</dd><dt><span>Grib2_Level_Desc :</span></dt><dd>Ground or water surface</dd><dt><span>Grib2_Generating_Process_Type :</span></dt><dd>Forecast</dd><dt><span>coordinates :</span></dt><dd>time1 lat lon </dd></dl></div><div class='xr-var-data'><pre>array([[[1863.52 , 1863.52 , ..., 1256.544,      nan],\n",
       "        [1831.392, 2057.568, ..., 1580.   ,      nan],\n",
       "        ...,\n",
       "        [1720.288, 1720.288, ..., 2168.416, 2168.416],\n",
       "        [1779.04 , 1779.04 , ...,      nan,      nan]],\n",
       "\n",
       "       [[1863.52 , 1863.52 , ..., 1256.544,      nan],\n",
       "        [1831.392, 2057.568, ..., 1580.   ,      nan],\n",
       "        ...,\n",
       "        [1720.288, 1720.288, ..., 2168.416, 2168.416],\n",
       "        [1779.04 , 1779.04 , ...,      nan,      nan]],\n",
       "\n",
       "       ...,\n",
       "\n",
       "       [[1863.52 , 1863.52 , ..., 1256.544,      nan],\n",
       "        [1831.392, 2057.568, ..., 1580.   ,      nan],\n",
       "        ...,\n",
       "        [1720.288, 1720.288, ..., 2168.416, 2168.416],\n",
       "        [1779.04 , 1779.04 , ...,      nan,      nan]],\n",
       "\n",
       "       [[1863.52 , 1863.52 , ..., 1256.544,      nan],\n",
       "        [1831.392, 2057.568, ..., 1580.   ,      nan],\n",
       "        ...,\n",
       "        [1720.288, 1720.288, ..., 2168.416, 2168.416],\n",
       "        [1779.04 , 1779.04 , ...,      nan,      nan]]], dtype=float32)</pre></div></li><li class='xr-var-item'><div class='xr-var-name'><span>Precipitation_rate_surface_6_Hour_Average</span></div><div class='xr-var-dims'>(time, northing, easting)</div><div class='xr-var-dtype'>float32</div><div class='xr-var-preview xr-preview'>...</div><input id='attrs-708d0fa0-553f-4c2b-9815-d4aeaeeeda98' class='xr-var-attrs-in' type='checkbox' ><label for='attrs-708d0fa0-553f-4c2b-9815-d4aeaeeeda98' title='Show/Hide attributes'><svg class='icon xr-icon-file-text2'><use xlink:href='#icon-file-text2'></use></svg></label><input id='data-8e3281a8-1a60-48ef-910c-88dff2b140ca' class='xr-var-data-in' type='checkbox'><label for='data-8e3281a8-1a60-48ef-910c-88dff2b140ca' title='Show/Hide data repr'><svg class='icon xr-icon-database'><use xlink:href='#icon-database'></use></svg></label><div class='xr-var-attrs'><dl class='xr-attrs'><dt><span>long_name :</span></dt><dd>Precipitation rate (6_Hour Average) @ Ground or water surface</dd><dt><span>units :</span></dt><dd>kg.m-2.s-1</dd><dt><span>abbreviation :</span></dt><dd>PRATE</dd><dt><span>grid_mapping :</span></dt><dd>crs</dd><dt><span>Grib_Statistical_Interval_Type :</span></dt><dd>Average</dd><dt><span>Grib_Variable_Id :</span></dt><dd>VAR_0-1-7_L1_I6_Hour_S0</dd><dt><span>Grib2_Parameter :</span></dt><dd>[0 1 7]</dd><dt><span>Grib2_Parameter_Discipline :</span></dt><dd>Meteorological products</dd><dt><span>Grib2_Parameter_Category :</span></dt><dd>Moisture</dd><dt><span>Grib2_Parameter_Name :</span></dt><dd>Precipitation rate</dd><dt><span>Grib2_Level_Type :</span></dt><dd>1</dd><dt><span>Grib2_Level_Desc :</span></dt><dd>Ground or water surface</dd><dt><span>Grib2_Generating_Process_Type :</span></dt><dd>Forecast</dd><dt><span>coordinates :</span></dt><dd>time lat lon </dd></dl></div><div class='xr-var-data'><pre>array([[[0.0e+00, 0.0e+00, ..., 3.8e-05,     nan],\n",
       "        [1.0e-06, 6.0e-06, ..., 3.3e-05,     nan],\n",
       "        ...,\n",
       "        [0.0e+00, 0.0e+00, ..., 0.0e+00, 0.0e+00],\n",
       "        [0.0e+00, 0.0e+00, ...,     nan,     nan]],\n",
       "\n",
       "       [[0.0e+00, 0.0e+00, ..., 3.4e-05,     nan],\n",
       "        [0.0e+00, 1.0e-06, ..., 8.7e-05,     nan],\n",
       "        ...,\n",
       "        [0.0e+00, 0.0e+00, ..., 2.0e-06, 4.0e-06],\n",
       "        [0.0e+00, 0.0e+00, ...,     nan,     nan]],\n",
       "\n",
       "       ...,\n",
       "\n",
       "       [[0.0e+00, 0.0e+00, ..., 0.0e+00,     nan],\n",
       "        [0.0e+00, 0.0e+00, ..., 0.0e+00,     nan],\n",
       "        ...,\n",
       "        [0.0e+00, 0.0e+00, ..., 0.0e+00, 0.0e+00],\n",
       "        [0.0e+00, 0.0e+00, ...,     nan,     nan]],\n",
       "\n",
       "       [[0.0e+00, 0.0e+00, ..., 0.0e+00,     nan],\n",
       "        [0.0e+00, 0.0e+00, ..., 0.0e+00,     nan],\n",
       "        ...,\n",
       "        [0.0e+00, 0.0e+00, ..., 0.0e+00, 0.0e+00],\n",
       "        [0.0e+00, 0.0e+00, ...,     nan,     nan]]], dtype=float32)</pre></div></li><li class='xr-var-item'><div class='xr-var-name'><span>Specific_humidity_height_above_ground</span></div><div class='xr-var-dims'>(time, northing, easting)</div><div class='xr-var-dtype'>float32</div><div class='xr-var-preview xr-preview'>...</div><input id='attrs-a31a8c62-6401-44c9-90d7-2d42cab55b9e' class='xr-var-attrs-in' type='checkbox' ><label for='attrs-a31a8c62-6401-44c9-90d7-2d42cab55b9e' title='Show/Hide attributes'><svg class='icon xr-icon-file-text2'><use xlink:href='#icon-file-text2'></use></svg></label><input id='data-2268b1ec-ec3a-41b7-896a-373a1d69868f' class='xr-var-data-in' type='checkbox'><label for='data-2268b1ec-ec3a-41b7-896a-373a1d69868f' title='Show/Hide data repr'><svg class='icon xr-icon-database'><use xlink:href='#icon-database'></use></svg></label><div class='xr-var-attrs'><dl class='xr-attrs'><dt><span>long_name :</span></dt><dd>Specific humidity @ Specified height level above ground</dd><dt><span>units :</span></dt><dd>kg/kg</dd><dt><span>abbreviation :</span></dt><dd>SPFH</dd><dt><span>grid_mapping :</span></dt><dd>crs</dd><dt><span>Grib_Variable_Id :</span></dt><dd>VAR_0-1-0_L103</dd><dt><span>Grib2_Parameter :</span></dt><dd>[0 1 0]</dd><dt><span>Grib2_Parameter_Discipline :</span></dt><dd>Meteorological products</dd><dt><span>Grib2_Parameter_Category :</span></dt><dd>Moisture</dd><dt><span>Grib2_Parameter_Name :</span></dt><dd>Specific humidity</dd><dt><span>Grib2_Level_Type :</span></dt><dd>103</dd><dt><span>Grib2_Level_Desc :</span></dt><dd>Specified height level above ground</dd><dt><span>Grib2_Generating_Process_Type :</span></dt><dd>Forecast</dd><dt><span>height_above_ground :</span></dt><dd>2.0m</dd><dt><span>coordinates :</span></dt><dd>time1 height_above_ground lat lon </dd></dl></div><div class='xr-var-data'><pre>array([[[0.006487, 0.006631, ..., 0.007955,      nan],\n",
       "        [0.006183, 0.006534, ..., 0.007536,      nan],\n",
       "        ...,\n",
       "        [0.003955, 0.004016, ..., 0.003904, 0.003979],\n",
       "        [0.003742, 0.003669, ...,      nan,      nan]],\n",
       "\n",
       "       [[0.006127, 0.006105, ..., 0.008458,      nan],\n",
       "        [0.006409, 0.006495, ..., 0.008403,      nan],\n",
       "        ...,\n",
       "        [0.00573 , 0.006049, ..., 0.003813, 0.004071],\n",
       "        [0.004213, 0.004092, ...,      nan,      nan]],\n",
       "\n",
       "       ...,\n",
       "\n",
       "       [[0.004379, 0.004593, ..., 0.007024,      nan],\n",
       "        [0.004113, 0.00436 , ..., 0.006591,      nan],\n",
       "        ...,\n",
       "        [0.003301, 0.003413, ..., 0.002581, 0.002586],\n",
       "        [0.003326, 0.003385, ...,      nan,      nan]],\n",
       "\n",
       "       [[0.003705, 0.003962, ..., 0.006509,      nan],\n",
       "        [0.003629, 0.003931, ..., 0.006438,      nan],\n",
       "        ...,\n",
       "        [0.003153, 0.003266, ..., 0.002206, 0.002189],\n",
       "        [0.003105, 0.003172, ...,      nan,      nan]]], dtype=float32)</pre></div></li><li class='xr-var-item'><div class='xr-var-name'><span>Pressure_surface</span></div><div class='xr-var-dims'>(time, northing, easting)</div><div class='xr-var-dtype'>float32</div><div class='xr-var-preview xr-preview'>...</div><input id='attrs-d468ce05-b34a-4e07-ada8-f09111260d4f' class='xr-var-attrs-in' type='checkbox' ><label for='attrs-d468ce05-b34a-4e07-ada8-f09111260d4f' title='Show/Hide attributes'><svg class='icon xr-icon-file-text2'><use xlink:href='#icon-file-text2'></use></svg></label><input id='data-62de86a8-b105-4b22-9024-966940a216eb' class='xr-var-data-in' type='checkbox'><label for='data-62de86a8-b105-4b22-9024-966940a216eb' title='Show/Hide data repr'><svg class='icon xr-icon-database'><use xlink:href='#icon-database'></use></svg></label><div class='xr-var-attrs'><dl class='xr-attrs'><dt><span>long_name :</span></dt><dd>Pressure @ Ground or water surface</dd><dt><span>units :</span></dt><dd>Pa</dd><dt><span>abbreviation :</span></dt><dd>PRES</dd><dt><span>grid_mapping :</span></dt><dd>crs</dd><dt><span>Grib_Variable_Id :</span></dt><dd>VAR_0-3-0_L1</dd><dt><span>Grib2_Parameter :</span></dt><dd>[0 3 0]</dd><dt><span>Grib2_Parameter_Discipline :</span></dt><dd>Meteorological products</dd><dt><span>Grib2_Parameter_Category :</span></dt><dd>Mass</dd><dt><span>Grib2_Parameter_Name :</span></dt><dd>Pressure</dd><dt><span>Grib2_Level_Type :</span></dt><dd>1</dd><dt><span>Grib2_Level_Desc :</span></dt><dd>Ground or water surface</dd><dt><span>Grib2_Generating_Process_Type :</span></dt><dd>Forecast</dd><dt><span>coordinates :</span></dt><dd>time1 lat lon </dd></dl></div><div class='xr-var-data'><pre>array([[[81210., 80900., ..., 86480.,    nan],\n",
       "        [80410., 79370., ..., 83890.,    nan],\n",
       "        ...,\n",
       "        [84660., 82570., ..., 78160., 78460.],\n",
       "        [84580., 82060., ...,    nan,    nan]],\n",
       "\n",
       "       [[81260., 80960., ..., 86620.,    nan],\n",
       "        [80440., 79390., ..., 84010.,    nan],\n",
       "        ...,\n",
       "        [84800., 82690., ..., 78200., 78510.],\n",
       "        [84730., 82180., ...,    nan,    nan]],\n",
       "\n",
       "       ...,\n",
       "\n",
       "       [[81370., 81070., ..., 86830.,    nan],\n",
       "        [80560., 79520., ..., 84200.,    nan],\n",
       "        ...,\n",
       "        [84970., 82850., ..., 78340., 78640.],\n",
       "        [84910., 82340., ...,    nan,    nan]],\n",
       "\n",
       "       [[81270., 80960., ..., 86610.,    nan],\n",
       "        [80480., 79440., ..., 84020.,    nan],\n",
       "        ...,\n",
       "        [84800., 82700., ..., 78180., 78480.],\n",
       "        [84740., 82210., ...,    nan,    nan]]], dtype=float32)</pre></div></li><li class='xr-var-item'><div class='xr-var-name'><span>v-component_of_wind_height_above_ground</span></div><div class='xr-var-dims'>(time, northing, easting)</div><div class='xr-var-dtype'>float32</div><div class='xr-var-preview xr-preview'>...</div><input id='attrs-2d575b06-b0c8-4169-bc04-542097f5423b' class='xr-var-attrs-in' type='checkbox' ><label for='attrs-2d575b06-b0c8-4169-bc04-542097f5423b' title='Show/Hide attributes'><svg class='icon xr-icon-file-text2'><use xlink:href='#icon-file-text2'></use></svg></label><input id='data-7b82eeaf-4e82-49f3-b81c-a35fe7307bbd' class='xr-var-data-in' type='checkbox'><label for='data-7b82eeaf-4e82-49f3-b81c-a35fe7307bbd' title='Show/Hide data repr'><svg class='icon xr-icon-database'><use xlink:href='#icon-database'></use></svg></label><div class='xr-var-attrs'><dl class='xr-attrs'><dt><span>long_name :</span></dt><dd>v-component of wind @ Specified height level above ground</dd><dt><span>units :</span></dt><dd>m/s</dd><dt><span>abbreviation :</span></dt><dd>VGRD</dd><dt><span>grid_mapping :</span></dt><dd>crs</dd><dt><span>Grib_Variable_Id :</span></dt><dd>VAR_0-2-3_L103</dd><dt><span>Grib2_Parameter :</span></dt><dd>[0 2 3]</dd><dt><span>Grib2_Parameter_Discipline :</span></dt><dd>Meteorological products</dd><dt><span>Grib2_Parameter_Category :</span></dt><dd>Momentum</dd><dt><span>Grib2_Parameter_Name :</span></dt><dd>v-component of wind</dd><dt><span>Grib2_Level_Type :</span></dt><dd>103</dd><dt><span>Grib2_Level_Desc :</span></dt><dd>Specified height level above ground</dd><dt><span>Grib2_Generating_Process_Type :</span></dt><dd>Forecast</dd><dt><span>height_above_ground :</span></dt><dd>10.0m</dd><dt><span>coordinates :</span></dt><dd>time1 height_above_ground1 lat lon </dd></dl></div><div class='xr-var-data'><pre>array([[[-0.36, -0.61, ...,  0.46,   nan],\n",
       "        [-0.32, -0.58, ...,  0.11,   nan],\n",
       "        ...,\n",
       "        [-1.11, -0.62, ...,  2.38,  2.34],\n",
       "        [ 0.52,  0.84, ...,   nan,   nan]],\n",
       "\n",
       "       [[-0.99, -0.94, ...,  0.44,   nan],\n",
       "        [-0.74, -0.7 , ...,  0.23,   nan],\n",
       "        ...,\n",
       "        [-0.68, -0.25, ...,  1.57,  1.8 ],\n",
       "        [-0.17,  0.27, ...,   nan,   nan]],\n",
       "\n",
       "       ...,\n",
       "\n",
       "       [[ 0.02, -0.43, ...,  0.61,   nan],\n",
       "        [ 0.21,  0.02, ...,  2.27,   nan],\n",
       "        ...,\n",
       "        [ 0.15,  0.16, ..., -1.86, -1.76],\n",
       "        [ 0.27,  0.61, ...,   nan,   nan]],\n",
       "\n",
       "       [[-0.55, -0.98, ..., -3.61,   nan],\n",
       "        [-0.43, -0.48, ..., -2.01,   nan],\n",
       "        ...,\n",
       "        [ 1.35,  0.62, ..., -1.22, -1.37],\n",
       "        [ 1.07,  0.75, ...,   nan,   nan]]], dtype=float32)</pre></div></li><li class='xr-var-item'><div class='xr-var-name'><span>Downward_Short-Wave_Radiation_Flux_surface_6_Hour_Average</span></div><div class='xr-var-dims'>(time, northing, easting)</div><div class='xr-var-dtype'>float32</div><div class='xr-var-preview xr-preview'>...</div><input id='attrs-9c40cf7c-e009-432f-b189-a0fd570f963e' class='xr-var-attrs-in' type='checkbox' ><label for='attrs-9c40cf7c-e009-432f-b189-a0fd570f963e' title='Show/Hide attributes'><svg class='icon xr-icon-file-text2'><use xlink:href='#icon-file-text2'></use></svg></label><input id='data-ee489fd8-070a-456f-9477-21932eacb7fd' class='xr-var-data-in' type='checkbox'><label for='data-ee489fd8-070a-456f-9477-21932eacb7fd' title='Show/Hide data repr'><svg class='icon xr-icon-database'><use xlink:href='#icon-database'></use></svg></label><div class='xr-var-attrs'><dl class='xr-attrs'><dt><span>long_name :</span></dt><dd>Downward Short-Wave Radiation Flux (6_Hour Average) @ Ground or water surface</dd><dt><span>units :</span></dt><dd>W.m-2</dd><dt><span>abbreviation :</span></dt><dd>DSWRF</dd><dt><span>grid_mapping :</span></dt><dd>crs</dd><dt><span>Grib_Statistical_Interval_Type :</span></dt><dd>Average</dd><dt><span>Grib_Variable_Id :</span></dt><dd>VAR_0-4-192_L1_I6_Hour_S0</dd><dt><span>Grib2_Parameter :</span></dt><dd>[  0   4 192]</dd><dt><span>Grib2_Parameter_Discipline :</span></dt><dd>Meteorological products</dd><dt><span>Grib2_Parameter_Category :</span></dt><dd>Short wave radiation</dd><dt><span>Grib2_Parameter_Name :</span></dt><dd>Downward Short-Wave Radiation Flux</dd><dt><span>Grib2_Level_Type :</span></dt><dd>1</dd><dt><span>Grib2_Level_Desc :</span></dt><dd>Ground or water surface</dd><dt><span>Grib2_Generating_Process_Type :</span></dt><dd>Forecast</dd><dt><span>coordinates :</span></dt><dd>time lat lon </dd></dl></div><div class='xr-var-data'><pre>array([[[ 39.,  30., ...,   8.,  nan],\n",
       "        [ 33.,  21., ...,  12.,  nan],\n",
       "        ...,\n",
       "        [ 60.,  60., ...,  29.,  27.],\n",
       "        [ 60.,  60., ...,  nan,  nan]],\n",
       "\n",
       "       [[  0.,   0., ...,   0.,  nan],\n",
       "        [  0.,   0., ...,   0.,  nan],\n",
       "        ...,\n",
       "        [  0.,   0., ...,   0.,   0.],\n",
       "        [  0.,   0., ...,  nan,  nan]],\n",
       "\n",
       "       ...,\n",
       "\n",
       "       [[350., 352., ..., 371.,  nan],\n",
       "        [352., 355., ..., 375.,  nan],\n",
       "        ...,\n",
       "        [361., 366., ..., 405., 407.],\n",
       "        [362., 367., ...,  nan,  nan]],\n",
       "\n",
       "       [[727., 726., ..., 689.,  nan],\n",
       "        [731., 731., ..., 697.,  nan],\n",
       "        ...,\n",
       "        [764., 766., ..., 765., 763.],\n",
       "        [766., 769., ...,  nan,  nan]]], dtype=float32)</pre></div></li></ul></div></li><li class='xr-section-item'><input id='section-eedc1b21-110f-4771-be5b-46898a7cbf0f' class='xr-section-summary-in' type='checkbox'  ><label for='section-eedc1b21-110f-4771-be5b-46898a7cbf0f' class='xr-section-summary' >Attributes: <span>(14)</span></label><div class='xr-section-inline-details'></div><div class='xr-section-details'><dl class='xr-attrs'><dt><span>Originating_or_generating_Center :</span></dt><dd>US National Weather Service, National Centres for Environmental Prediction (NCEP)</dd><dt><span>Originating_or_generating_Subcenter :</span></dt><dd>0</dd><dt><span>GRIB_table_version :</span></dt><dd>2,1</dd><dt><span>Type_of_generating_process :</span></dt><dd>Forecast</dd><dt><span>Analysis_or_forecast_generating_process_identifier_defined_by_originating_centre :</span></dt><dd>Climate Data Assimilation System (CDAS)</dd><dt><span>Conventions :</span></dt><dd>CF-1.6</dd><dt><span>history :</span></dt><dd>Read using CDM IOSP GribCollection v3</dd><dt><span>featureType :</span></dt><dd>GRID</dd><dt><span>History :</span></dt><dd>Translated to CF-1.0 Conventions by Netcdf-Java CDM (CFGridWriter2)\n",
       "Original Dataset = /modeldata/cfsv2_analysis_flxf/2018/201808/20180831/cdas1.t00z.sfluxgrbf06.grib2; Translation Date = 2020-12-17T04:21:39.955Z</dd><dt><span>geospatial_lat_min :</span></dt><dd>41.39692687988281</dd><dt><span>geospatial_lat_max :</span></dt><dd>45.485511779785156</dd><dt><span>geospatial_lon_min :</span></dt><dd>-112.09121704101562</dd><dt><span>geospatial_lon_max :</span></dt><dd>-108.40940856933594</dd><dt><span>grid_mapping :</span></dt><dd>crs</dd></dl></div></li></ul></div></div>"
      ],
      "text/plain": [
       "<xarray.Dataset>\n",
       "Dimensions:                                                    (easting: 15, northing: 22, time: 12)\n",
       "Coordinates:\n",
       "  * easting                                                    (easting) float64 ...\n",
       "  * northing                                                   (northing) float64 ...\n",
       "  * time                                                       (time) datetime64[ns] ...\n",
       "    crs                                                        int64 ...\n",
       "Data variables:\n",
       "    u-component_of_wind_height_above_ground                    (time, northing, easting) float32 ...\n",
       "    Downward_Long-Wave_Radp_Flux_surface                       (time, northing, easting) float32 ...\n",
       "    Temperature_height_above_ground                            (time, northing, easting) float32 ...\n",
       "    Geopotential_height_surface                                (time, northing, easting) float32 ...\n",
       "    Precipitation_rate_surface_6_Hour_Average                  (time, northing, easting) float32 ...\n",
       "    Specific_humidity_height_above_ground                      (time, northing, easting) float32 ...\n",
       "    Pressure_surface                                           (time, northing, easting) float32 ...\n",
       "    v-component_of_wind_height_above_ground                    (time, northing, easting) float32 ...\n",
       "    Downward_Short-Wave_Radiation_Flux_surface_6_Hour_Average  (time, northing, easting) float32 ...\n",
       "Attributes:\n",
       "    Originating_or_generating_Center:                                        ...\n",
       "    Originating_or_generating_Subcenter:                                     ...\n",
       "    GRIB_table_version:                                                      ...\n",
       "    Type_of_generating_process:                                              ...\n",
       "    Analysis_or_forecast_generating_process_identifier_defined_by_originating...\n",
       "    Conventions:                                                             ...\n",
       "    history:                                                                 ...\n",
       "    featureType:                                                             ...\n",
       "    History:                                                                 ...\n",
       "    geospatial_lat_min:                                                      ...\n",
       "    geospatial_lat_max:                                                      ...\n",
       "    geospatial_lon_min:                                                      ...\n",
       "    geospatial_lon_max:                                                      ...\n",
       "    grid_mapping:                                                            ..."
      ]
     },
     "execution_count": 12,
     "metadata": {},
     "output_type": "execute_result"
    }
   ],
   "source": [
    "tds_ds = xr.open_dataset(tds_ds_fname)\n",
    "tds_ds"
   ]
  },
  {
   "cell_type": "code",
   "execution_count": 13,
   "metadata": {},
   "outputs": [],
   "source": [
    "airt_tds_da = tds_ds['Temperature_height_above_ground']"
   ]
  },
  {
   "cell_type": "code",
   "execution_count": 14,
   "metadata": {},
   "outputs": [
    {
     "data": {
      "text/plain": [
       "(array(22200.), array(-22200.))"
      ]
     },
     "execution_count": 14,
     "metadata": {},
     "output_type": "execute_result"
    }
   ],
   "source": [
    "(airt_tds_da.easting[1] - airt_tds_da.easting[0]).values, (airt_tds_da.northing[1] - airt_tds_da.northing[0]).values"
   ]
  },
  {
   "cell_type": "code",
   "execution_count": 15,
   "metadata": {},
   "outputs": [
    {
     "data": {
      "text/plain": [
       "((array(411173.2188239), array(721973.2188239)),\n",
       " (array(5040670.05947151), array(4574470.05947151)))"
      ]
     },
     "execution_count": 15,
     "metadata": {},
     "output_type": "execute_result"
    }
   ],
   "source": [
    "(airt_tds_da.easting[0].values, airt_tds_da.easting[-1].values), (airt_tds_da.northing[0].values, airt_tds_da.northing[-1].values)"
   ]
  },
  {
   "cell_type": "markdown",
   "metadata": {},
   "source": [
    "- Note that northing coordinate values are sorted from high to low\n",
    "- Investigate why the no-data areas are occurring on the edges; could it have something to do with the resampling scheme chosen?\n",
    "- Another option to investigate is using a larger bbox buffer on the TDS data request, so that the reprojection resampling is not impacted by edge effects"
   ]
  },
  {
   "cell_type": "code",
   "execution_count": 16,
   "metadata": {},
   "outputs": [
    {
     "data": {
      "text/plain": [
       "array(['2018-08-31T06:00:00.000000000', '2018-08-31T12:00:00.000000000',\n",
       "       '2018-08-31T18:00:00.000000000', '2018-09-01T00:00:00.000000000',\n",
       "       '2018-09-01T06:00:00.000000000', '2018-09-01T12:00:00.000000000',\n",
       "       '2018-09-01T18:00:00.000000000', '2018-09-02T00:00:00.000000000',\n",
       "       '2018-09-02T06:00:00.000000000', '2018-09-02T12:00:00.000000000',\n",
       "       '2018-09-02T18:00:00.000000000', '2018-09-03T00:00:00.000000000'],\n",
       "      dtype='datetime64[ns]')"
      ]
     },
     "execution_count": 16,
     "metadata": {},
     "output_type": "execute_result"
    }
   ],
   "source": [
    "airt_tds_da.coords['time'].values"
   ]
  },
  {
   "cell_type": "markdown",
   "metadata": {},
   "source": [
    "Plot two time steps"
   ]
  },
  {
   "cell_type": "code",
   "execution_count": 17,
   "metadata": {},
   "outputs": [
    {
     "data": {
      "image/png": "[encoded data removed]",
      "text/plain": [
       "<Figure size 720x360 with 4 Axes>"
      ]
     },
     "metadata": {
      "needs_background": "light"
     },
     "output_type": "display_data"
    }
   ],
   "source": [
    "f, ax = plt.subplots(ncols=2, figsize=(10, 5))\n",
    "\n",
    "airt_tds_da.isel(time=0).plot(ax=ax[0])\n",
    "bbox.plot(ax=ax[0], edgecolor='black', facecolor='none')\n",
    "\n",
    "airt_tds_da.isel(time=3).plot(ax=ax[1])\n",
    "bbox.plot(ax=ax[1], edgecolor='black', facecolor='none');"
   ]
  },
  {
   "cell_type": "code",
   "execution_count": 18,
   "metadata": {},
   "outputs": [
    {
     "data": {
      "text/plain": [
       "numpy.datetime64('2018-09-01T00:00:00.000000000')"
      ]
     },
     "execution_count": 18,
     "metadata": {},
     "output_type": "execute_result"
    }
   ],
   "source": [
    "airt_tds_da.isel(time=3).coords['time'].values"
   ]
  },
  {
   "cell_type": "markdown",
   "metadata": {},
   "source": [
    "## Compare GEE vs TDS"
   ]
  },
  {
   "cell_type": "markdown",
   "metadata": {},
   "source": [
    "### Plot overlaying the histograms for the same time period, for the two datasets\n",
    "\n",
    "But keep in mind that the spatial domains are different; the TDS domain is larger."
   ]
  },
  {
   "cell_type": "code",
   "execution_count": 19,
   "metadata": {},
   "outputs": [
    {
     "data": {
      "image/png": "[encoded data removed]",
      "text/plain": [
       "<Figure size 432x288 with 1 Axes>"
      ]
     },
     "metadata": {
      "needs_background": "light"
     },
     "output_type": "display_data"
    }
   ],
   "source": [
    "airt_tds_da.plot.hist(density=True, range=(265,305), bins=20, \n",
    "                      edgecolor='b', facecolor='green', alpha=0.3)\n",
    "# Select a time (band) slice matching the TDS dataset time period\n",
    "airt_gee_da.isel(band=slice(0,12)).plot.hist(density=True, range=(265,305), bins=20, \n",
    "                                             edgecolor='r', facecolor='yellow', alpha=0.3)\n",
    "plt.legend(['TDS', 'GEE']);"
   ]
  },
  {
   "cell_type": "markdown",
   "metadata": {},
   "source": [
    "### Time series plot averaging all cells at each time step"
   ]
  },
  {
   "cell_type": "code",
   "execution_count": 20,
   "metadata": {},
   "outputs": [
    {
     "data": {
      "image/png": "[encoded data removed]",
      "text/plain": [
       "<Figure size 1008x360 with 2 Axes>"
      ]
     },
     "metadata": {
      "needs_background": "light"
     },
     "output_type": "display_data"
    }
   ],
   "source": [
    "fig, ax = plt.subplots(ncols=2, sharey=True, figsize=(14, 5))\n",
    "airt_tds_da.mean(['easting', 'northing']).plot(ax=ax[0], color='b')\n",
    "ax[0].set_title('TDS')\n",
    "airt_gee_da.mean(['x', 'y']).isel(band=slice(0,12)).plot(ax=ax[1], color='r')\n",
    "ax[1].set_ylim(276, 295)\n",
    "ax[1].set_title('GEE');"
   ]
  },
  {
   "cell_type": "markdown",
   "metadata": {},
   "source": [
    "For `airt_gee_da`, the `band` dimension is just an incremental integer, not a datetime. So, we can't actually plot the two time series together yet"
   ]
  },
  {
   "cell_type": "markdown",
   "metadata": {},
   "source": [
    "### Map plot of the two datasets at the same time period (best guess), using the same x-y ranges and value range\n",
    "\n",
    "**NOTE:** The best match to TDS `isel(time=3)` (2018-09-01T00:00) seems to be `isel(band=3)`, NOT `isel(band=0)` as I expected"
   ]
  },
  {
   "cell_type": "code",
   "execution_count": 21,
   "metadata": {},
   "outputs": [
    {
     "data": {
      "image/png": "[encoded data removed]",
      "text/plain": [
       "<Figure size 720x432 with 4 Axes>"
      ]
     },
     "metadata": {
      "needs_background": "light"
     },
     "output_type": "display_data"
    }
   ],
   "source": [
    "bounds = bbox.geometry.bounds\n",
    "\n",
    "f, ax = plt.subplots(ncols=2, sharex=True, sharey=True, figsize=(10, 6))\n",
    "\n",
    "airt_gee_da.isel(band=3).plot(ax=ax[0], vmin=274, vmax=296)\n",
    "bbox.plot(ax=ax[0], edgecolor='black', facecolor='none')\n",
    "ax[0].set_title('GEE')\n",
    "\n",
    "airt_tds_da.isel(time=3).plot(ax=ax[1], vmin=274, vmax=296)\n",
    "bbox.plot(ax=ax[1], edgecolor='black', facecolor='none')\n",
    "ax[1].set_xlim([bounds.minx.min(), bounds.maxx.max()])\n",
    "ax[1].set_ylim([bounds.miny.min(), bounds.maxy.max()])\n",
    "ax[1].set_title('TDS');"
   ]
  },
  {
   "cell_type": "markdown",
   "metadata": {},
   "source": [
    "## Examine timestamps, whether data match expected diurnal cycles\n",
    "\n",
    "The Wyoming domain is in the Mountain time zone. MST UTC offset is -7 hours"
   ]
  },
  {
   "cell_type": "code",
   "execution_count": 25,
   "metadata": {},
   "outputs": [
    {
     "data": {
      "image/png": "[encoded data removed]",
      "text/plain": [
       "<Figure size 1152x288 with 1 Axes>"
      ]
     },
     "metadata": {
      "needs_background": "light"
     },
     "output_type": "display_data"
    }
   ],
   "source": [
    "fig, ax = plt.subplots(1, figsize=(16, 4))\n",
    "tds_ds['Downward_Short-Wave_Radiation_Flux_surface_6_Hour_Average'].mean(['easting', 'northing']).plot(ax=ax);"
   ]
  },
  {
   "cell_type": "code",
   "execution_count": 22,
   "metadata": {},
   "outputs": [],
   "source": [
    "#tds_ds.close()"
   ]
  },
  {
   "cell_type": "code",
   "execution_count": null,
   "metadata": {},
   "outputs": [],
   "source": []
  }
 ],
 "metadata": {
  "kernelspec": {
   "display_name": "Python [conda env:holovizgen1202]",
   "language": "python",
   "name": "conda-env-holovizgen1202-py"
  },
  "language_info": {
   "codemirror_mode": {
    "name": "ipython",
    "version": 3
   },
   "file_extension": ".py",
   "mimetype": "text/x-python",
   "name": "python",
   "nbconvert_exporter": "python",
   "pygments_lexer": "ipython3",
   "version": "3.8.6"
  }
 },
 "nbformat": 4,
 "nbformat_minor": 4
}
