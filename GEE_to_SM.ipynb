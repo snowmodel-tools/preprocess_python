{
 "cells": [
  {
   "cell_type": "code",
   "execution_count": 185,
   "metadata": {},
   "outputs": [],
   "source": [
    "import numpy as np\n",
    "import rasterio as rio \n",
    "from datetime import datetime, timedelta\n",
    "from affine import Affine"
   ]
  },
  {
   "cell_type": "code",
   "execution_count": 62,
   "metadata": {},
   "outputs": [],
   "source": [
    "#give location of folder containing files from GEE\n",
    "GEEpath='/Users/aragon/Documents/OSU/CSO/WY/GEE/';\n",
    "\n",
    "#Info re: the files names out of Crumley GEE script\n",
    "#give the 'root' pathname of the met files. Note: we will append things like _elev.tif,\n",
    "# _prec.tif, and so on...\n",
    "\n",
    "metfilename='cfsv2_2018-09-01';\n",
    "\n",
    "#give names of dem and land cover\n",
    "demname='DEM_WY.tif';\n",
    "lcname='NLCD2016_WY.tif';\n",
    "\n",
    "#give name of domain (e.g., GOA, or Thompson_Pass, or something like that).\n",
    "#This will only be used for option lat / lon grids.\n",
    "domain='WY';\n",
    "\n",
    "#give the desired output name of the met file\n",
    "outfilename='mm_WY_2018-2020.dat'; #please use something descriptive to help identify the output file.\n",
    "\n",
    "#give start time information\n",
    "startyear=2018;\n",
    "startmonth=9;\n",
    "startday=1;\n",
    "pointsperday=4; #use 4 for 6-hourly data, 8 for 3-hourly data, etc.\n",
    "starthour=0;"
   ]
  },
  {
   "cell_type": "code",
   "execution_count": 59,
   "metadata": {},
   "outputs": [],
   "source": [
    "# landcover data \n",
    "INpath = GEEpath+lcname\n",
    "def LC2SM(INpath,OUTpath):\n",
    "    src=rio.open(INpath)\n",
    "    lc=src.read(1)\n",
    "    #ascii header \n",
    "    head = \"ncols \"+str(np.shape(dem)[1])+\"\\n\\\n",
    "    nrows \"+str(np.shape(dem)[0])+\"\\n\\\n",
    "    xllcorner     \"+str(int(src.bounds.left))+\"\\n\\\n",
    "    yllcorner     \"+str(int(src.bounds.bottom))+\"\\n\\\n",
    "    cellsize      \"+str(int(src.res[0]))+\"\\n\\\n",
    "    NODATA_value  -9999\\n\"\n",
    "\n",
    "    #reassign lc from NLCD to SM classes\n",
    "    DIR=DIR=np.empty([np.shape(lc)[0],np.shape(lc)[1]])\n",
    "    DIR[lc == 11 ]=24\n",
    "    DIR[lc == 12 ]=20\n",
    "    DIR[lc == 21 ]=21\n",
    "    DIR[lc == 22 ]=21\n",
    "    DIR[lc == 23 ]=21\n",
    "    DIR[lc == 24 ]=21\n",
    "    DIR[lc == 31 ]=18\n",
    "    DIR[lc == 41 ]=2\n",
    "    DIR[lc == 42 ]=1\n",
    "    DIR[lc == 43 ]=6\n",
    "    DIR[lc == 51 ]=6\n",
    "    DIR[lc == 52 ]=6\n",
    "    DIR[lc == 71 ]=12\n",
    "    DIR[lc == 72 ]=12\n",
    "    DIR[lc == 73 ]=12\n",
    "    DIR[lc == 74 ]=12\n",
    "    DIR[lc == 81 ]=23\n",
    "    DIR[lc == 82 ]=22\n",
    "    DIR[lc == 90 ]=9\n",
    "    DIR[lc == 95 ]=9\n",
    "    DIR.astype(int)\n",
    "    np.savetxt(OUTpath+'NLCD2016_'+domain+'.asc', DIR, fmt='%4.0f', header = head,comments='')"
   ]
  },
  {
   "cell_type": "code",
   "execution_count": 55,
   "metadata": {},
   "outputs": [],
   "source": [
    "# dem\n",
    "INpath = GEEpath+demname\n",
    "def DEM2SM(INpath, OUTpath):\n",
    "    src=rio.open(INpath)\n",
    "    dem=src.read(1)\n",
    "    #ascii header \n",
    "    head = \"ncols \"+str(np.shape(dem)[1])+\"\\n\\\n",
    "    nrows \"+str(np.shape(dem)[0])+\"\\n\\\n",
    "    xllcorner     \"+str(int(src.bounds.left))+\"\\n\\\n",
    "    yllcorner     \"+str(int(src.bounds.bottom))+\"\\n\\\n",
    "    cellsize      \"+str(int(src.res[0]))+\"\\n\\\n",
    "    NODATA_value  -9999\\n\"\n",
    "    np.savetxt(OUTpath+'DEM_'+domain+'.asc', dem, fmt='%4.0f', header = head,comments='')"
   ]
  },
  {
   "cell_type": "code",
   "execution_count": null,
   "metadata": {},
   "outputs": [],
   "source": [
    "INpath = GEEpath+metfilename\n",
    "OUTpath = GEEpath+outfilename\n",
    "def MET2SM(INpath, OUTpath):\n",
    "    #compute number of grid points and time steps from size of 3d matrix\n",
    "\n",
    "    Z = xr.open_rasterio(INpath+'_elev.tif')\n",
    "\n",
    "    PR = xr.open_rasterio(INpath+'_prec.tif')\n",
    "\n",
    "    H = xr.open_rasterio(INpath+'_spechum.tif')\n",
    "\n",
    "    P = xr.open_rasterio(INpath+'_surfpres.tif')\n",
    "\n",
    "    T = xr.open_rasterio(INpath+'_tair.tif')\n",
    "\n",
    "    U = xr.open_rasterio(INpath+'_uwind.tif')\n",
    "\n",
    "    V = xr.open_rasterio(INpath+'_vwind.tif')\n",
    "\n",
    "    #compute number of grid points and time steps from size of 3d matrix\n",
    "    t,y,x=pr.shape\n",
    "    gridpts=x*y\n",
    "    tsteps=t\n",
    "\n",
    "    #create y m d h vectors\n",
    "    start_date =datetime.strptime(str(startyear)+'-'+str(startmonth)+'-'\\\n",
    "                                  +str(startday)+'-'+str(starthour),'%Y-%m-%d-%H')\n",
    "    n = str(24/pointsperday)\n",
    "    timestamp = pd.date_range(start_date, periods=tsteps, freq=n+'H')\n",
    "\n",
    "    #create ID numbers for the grid points\n",
    "    ID=1000000+np.linspace(1,gridpts,gridpts)\n",
    "\n",
    "    #create matrices of x and y values\n",
    "    transform = Affine.from_gdal(*PR.attrs['transform'])\n",
    "    X, Y = np.meshgrid(np.arange(x)+0.5, np.arange(y)+0.5) * transform\n",
    "    X=X.flatten()\n",
    "    Y=Y.flatten()\n",
    "\n",
    "    #elevation is static (doesn't change with time)\n",
    "    elev=Z[1,:,:].values.flatten()\n",
    "\n",
    "    #find number of grid points with <0 elevation. Note: this is related to the\n",
    "    #subroutine met_data_check in the preprocess_code.f. that subroutine seems\n",
    "    #to suggest that negative elevations are ok (say, death valley). But, the\n",
    "    #code itself checks for negative elevations and stops execution is any\n",
    "    #negatives are found.\n",
    "    I = np.where(elev>=0)\n",
    "    validgridpts=np.shape(I)[1]\n",
    "\n",
    "    #remove data at points with neg elevations\n",
    "    ID=ID[I]\n",
    "    X=X[I]\n",
    "    Y=Y[I]\n",
    "    elev=elev[I]\n",
    "\n",
    "    #we are now ready to begin our main loop over the time steps.\n",
    "    fid= open(OUTpath,\"w+\")\n",
    "\n",
    "    for j in range(tsteps):\n",
    "        #first we write the number of grid points\n",
    "        fid.write('{0:6d}\\n'.format(validgridpts))\n",
    "\n",
    "        #prep data matrix for this time step. First, grab the jth time slice\n",
    "        Prtmp=PR[j,:,:].values.flatten()\n",
    "        Htmp=H[j,:,:].values.flatten()\n",
    "        Ptmp=P[j,:,:].values.flatten()\n",
    "        Ttmp=T[j,:,:].values.flatten()\n",
    "        Utmp=U[j,:,:].values.flatten()\n",
    "        Vtmp=V[j,:,:].values.flatten()\n",
    "\n",
    "        #remove data at points with neg elevations\n",
    "        Prtmp=Prtmp[I]\n",
    "        Htmp=Htmp[I]\n",
    "        Ptmp=Ptmp[I]\n",
    "        Ttmp=Ttmp[I]\n",
    "        Utmp=Utmp[I]\n",
    "        Vtmp=Vtmp[I]\n",
    "\n",
    "\n",
    "        #convert precip rate to precip DEPTH (mm) during time interval\n",
    "        Prtmp=Prtmp*24*3600/pointsperday\n",
    "\n",
    "        #convert specific hum. to RH from Clausius-Clapeyron. T is still in K\n",
    "        RHtmp=0.263*Ptmp*Htmp*(np.exp(17.67*(Ttmp-273.16)/(Ttmp-29.65)))**(-1)\n",
    "\n",
    "        #compute wind speed\n",
    "        SPDtmp=np.sqrt(Utmp**2+Vtmp**2)\n",
    "\n",
    "        #compute wind direction. 0-360, with 0 being true north! 90 east, etc.\n",
    "        K=np.where(DIRtmp>=180)\n",
    "        J=np.where(DIRtmp<180)\n",
    "        DIRtmp[K]=DIRtmp[K]+180\n",
    "        DIRtmp[J]=DIRtmp[J]+180\n",
    "\n",
    "        #put T in C\n",
    "        Ttmp=Ttmp-273.16\n",
    "\n",
    "        for z in range(len(Prtmp)):\n",
    "\n",
    "            fid.write('{0:6d}'.format(timestamp[j].year)+'{0:3d}'.format(timestamp[j].month)+\n",
    "                      '{0:3d}'.format(timestamp[j].day)+'{:6.3f}'.format(timestamp[j].hour)+\n",
    "                      '{0:9d}'.format(int(ID[z]))+'{:12.1f}'.format(X[z])+\n",
    "                      '{:12.1f}'.format(Y[z])+'{:8.1f}'.format(elev[z])+\n",
    "                      '{:9.2f}'.format(Ttmp[z])+'{:9.2f}'.format(RHtmp[z])+\n",
    "                      '{:9.2f}'.format(SPDtmp[z])+'{:9.2f}'.format(DIRtmp[z])+\n",
    "                      '{:9.2f}\\n'.format(Prtmp[z]))\n",
    "    fid.close()"
   ]
  },
  {
   "cell_type": "code",
   "execution_count": null,
   "metadata": {},
   "outputs": [],
   "source": [
    "def LR2SM():\n",
    "    "
   ]
  },
  {
   "cell_type": "code",
   "execution_count": null,
   "metadata": {},
   "outputs": [],
   "source": []
  },
  {
   "cell_type": "code",
   "execution_count": null,
   "metadata": {},
   "outputs": [],
   "source": []
  },
  {
   "cell_type": "code",
   "execution_count": null,
   "metadata": {},
   "outputs": [],
   "source": []
  },
  {
   "cell_type": "code",
   "execution_count": null,
   "metadata": {},
   "outputs": [],
   "source": []
  },
  {
   "cell_type": "code",
   "execution_count": null,
   "metadata": {},
   "outputs": [],
   "source": []
  },
  {
   "cell_type": "code",
   "execution_count": null,
   "metadata": {},
   "outputs": [],
   "source": []
  },
  {
   "cell_type": "code",
   "execution_count": 96,
   "metadata": {},
   "outputs": [
    {
     "data": {
      "text/html": [
       "<div>\n",
       "<style scoped>\n",
       "    .dataframe tbody tr th:only-of-type {\n",
       "        vertical-align: middle;\n",
       "    }\n",
       "\n",
       "    .dataframe tbody tr th {\n",
       "        vertical-align: top;\n",
       "    }\n",
       "\n",
       "    .dataframe thead th {\n",
       "        text-align: right;\n",
       "    }\n",
       "</style>\n",
       "<table border=\"1\" class=\"dataframe\">\n",
       "  <thead>\n",
       "    <tr style=\"text-align: right;\">\n",
       "      <th></th>\n",
       "      <th>Date</th>\n",
       "      <th>SWE_mm</th>\n",
       "      <th>Temp_degC</th>\n",
       "      <th>Prcp_mm</th>\n",
       "    </tr>\n",
       "  </thead>\n",
       "  <tbody>\n",
       "    <tr>\n",
       "      <th>0</th>\n",
       "      <td>2011-10-01 00:00</td>\n",
       "      <td>0.0</td>\n",
       "      <td>8.9</td>\n",
       "      <td>0.0</td>\n",
       "    </tr>\n",
       "    <tr>\n",
       "      <th>1</th>\n",
       "      <td>2011-10-01 01:00</td>\n",
       "      <td>5.0</td>\n",
       "      <td>8.7</td>\n",
       "      <td>0.0</td>\n",
       "    </tr>\n",
       "    <tr>\n",
       "      <th>2</th>\n",
       "      <td>2011-10-01 02:00</td>\n",
       "      <td>8.0</td>\n",
       "      <td>8.4</td>\n",
       "      <td>0.0</td>\n",
       "    </tr>\n",
       "    <tr>\n",
       "      <th>3</th>\n",
       "      <td>2011-10-01 03:00</td>\n",
       "      <td>5.0</td>\n",
       "      <td>8.2</td>\n",
       "      <td>3.0</td>\n",
       "    </tr>\n",
       "    <tr>\n",
       "      <th>4</th>\n",
       "      <td>2011-10-01 04:00</td>\n",
       "      <td>5.0</td>\n",
       "      <td>8.0</td>\n",
       "      <td>0.0</td>\n",
       "    </tr>\n",
       "    <tr>\n",
       "      <th>...</th>\n",
       "      <td>...</td>\n",
       "      <td>...</td>\n",
       "      <td>...</td>\n",
       "      <td>...</td>\n",
       "    </tr>\n",
       "    <tr>\n",
       "      <th>8777</th>\n",
       "      <td>2012-09-30 19:00</td>\n",
       "      <td>-3.0</td>\n",
       "      <td>12.1</td>\n",
       "      <td>2032.0</td>\n",
       "    </tr>\n",
       "    <tr>\n",
       "      <th>8778</th>\n",
       "      <td>2012-09-30 20:00</td>\n",
       "      <td>-3.0</td>\n",
       "      <td>12.0</td>\n",
       "      <td>2035.0</td>\n",
       "    </tr>\n",
       "    <tr>\n",
       "      <th>8779</th>\n",
       "      <td>2012-09-30 21:00</td>\n",
       "      <td>-3.0</td>\n",
       "      <td>11.3</td>\n",
       "      <td>2040.0</td>\n",
       "    </tr>\n",
       "    <tr>\n",
       "      <th>8780</th>\n",
       "      <td>2012-09-30 22:00</td>\n",
       "      <td>-3.0</td>\n",
       "      <td>11.3</td>\n",
       "      <td>2040.0</td>\n",
       "    </tr>\n",
       "    <tr>\n",
       "      <th>8781</th>\n",
       "      <td>2012-09-30 23:00</td>\n",
       "      <td>-3.0</td>\n",
       "      <td>10.4</td>\n",
       "      <td>2037.0</td>\n",
       "    </tr>\n",
       "  </tbody>\n",
       "</table>\n",
       "<p>8782 rows × 4 columns</p>\n",
       "</div>"
      ],
      "text/plain": [
       "                  Date  SWE_mm  Temp_degC  Prcp_mm\n",
       "0     2011-10-01 00:00     0.0        8.9      0.0\n",
       "1     2011-10-01 01:00     5.0        8.7      0.0\n",
       "2     2011-10-01 02:00     8.0        8.4      0.0\n",
       "3     2011-10-01 03:00     5.0        8.2      3.0\n",
       "4     2011-10-01 04:00     5.0        8.0      0.0\n",
       "...                ...     ...        ...      ...\n",
       "8777  2012-09-30 19:00    -3.0       12.1   2032.0\n",
       "8778  2012-09-30 20:00    -3.0       12.0   2035.0\n",
       "8779  2012-09-30 21:00    -3.0       11.3   2040.0\n",
       "8780  2012-09-30 22:00    -3.0       11.3   2040.0\n",
       "8781  2012-09-30 23:00    -3.0       10.4   2037.0\n",
       "\n",
       "[8782 rows x 4 columns]"
      ]
     },
     "execution_count": 96,
     "metadata": {},
     "output_type": "execute_result"
    }
   ],
   "source": [
    "#HYDRUS\n",
    "import pandas as pd\n",
    "data = pd.read_csv('/Users/aragon/Downloads/scf11_12.csv',delimiter=',',header=52,skiprows=[0,53])\n",
    "data"
   ]
  },
  {
   "cell_type": "code",
   "execution_count": 103,
   "metadata": {},
   "outputs": [
    {
     "data": {
      "text/html": [
       "<div>\n",
       "<style scoped>\n",
       "    .dataframe tbody tr th:only-of-type {\n",
       "        vertical-align: middle;\n",
       "    }\n",
       "\n",
       "    .dataframe tbody tr th {\n",
       "        vertical-align: top;\n",
       "    }\n",
       "\n",
       "    .dataframe thead th {\n",
       "        text-align: right;\n",
       "    }\n",
       "</style>\n",
       "<table border=\"1\" class=\"dataframe\">\n",
       "  <thead>\n",
       "    <tr style=\"text-align: right;\">\n",
       "      <th></th>\n",
       "      <th>Date</th>\n",
       "      <th>SWE_mm</th>\n",
       "      <th>Temp_degC</th>\n",
       "      <th>Prcp_mm</th>\n",
       "      <th>SWE_dif</th>\n",
       "      <th>PR_dif</th>\n",
       "    </tr>\n",
       "  </thead>\n",
       "  <tbody>\n",
       "    <tr>\n",
       "      <th>0</th>\n",
       "      <td>2011-10-01 00:00</td>\n",
       "      <td>0.0</td>\n",
       "      <td>8.9</td>\n",
       "      <td>0.0</td>\n",
       "      <td>NaN</td>\n",
       "      <td>NaN</td>\n",
       "    </tr>\n",
       "    <tr>\n",
       "      <th>1</th>\n",
       "      <td>2011-10-01 01:00</td>\n",
       "      <td>5.0</td>\n",
       "      <td>8.7</td>\n",
       "      <td>0.0</td>\n",
       "      <td>5.0</td>\n",
       "      <td>0.0</td>\n",
       "    </tr>\n",
       "    <tr>\n",
       "      <th>2</th>\n",
       "      <td>2011-10-01 02:00</td>\n",
       "      <td>8.0</td>\n",
       "      <td>8.4</td>\n",
       "      <td>0.0</td>\n",
       "      <td>3.0</td>\n",
       "      <td>0.0</td>\n",
       "    </tr>\n",
       "    <tr>\n",
       "      <th>3</th>\n",
       "      <td>2011-10-01 03:00</td>\n",
       "      <td>5.0</td>\n",
       "      <td>8.2</td>\n",
       "      <td>3.0</td>\n",
       "      <td>-3.0</td>\n",
       "      <td>3.0</td>\n",
       "    </tr>\n",
       "    <tr>\n",
       "      <th>4</th>\n",
       "      <td>2011-10-01 04:00</td>\n",
       "      <td>5.0</td>\n",
       "      <td>8.0</td>\n",
       "      <td>0.0</td>\n",
       "      <td>0.0</td>\n",
       "      <td>-3.0</td>\n",
       "    </tr>\n",
       "    <tr>\n",
       "      <th>...</th>\n",
       "      <td>...</td>\n",
       "      <td>...</td>\n",
       "      <td>...</td>\n",
       "      <td>...</td>\n",
       "      <td>...</td>\n",
       "      <td>...</td>\n",
       "    </tr>\n",
       "    <tr>\n",
       "      <th>8777</th>\n",
       "      <td>2012-09-30 19:00</td>\n",
       "      <td>-3.0</td>\n",
       "      <td>12.1</td>\n",
       "      <td>2032.0</td>\n",
       "      <td>0.0</td>\n",
       "      <td>3.0</td>\n",
       "    </tr>\n",
       "    <tr>\n",
       "      <th>8778</th>\n",
       "      <td>2012-09-30 20:00</td>\n",
       "      <td>-3.0</td>\n",
       "      <td>12.0</td>\n",
       "      <td>2035.0</td>\n",
       "      <td>0.0</td>\n",
       "      <td>3.0</td>\n",
       "    </tr>\n",
       "    <tr>\n",
       "      <th>8779</th>\n",
       "      <td>2012-09-30 21:00</td>\n",
       "      <td>-3.0</td>\n",
       "      <td>11.3</td>\n",
       "      <td>2040.0</td>\n",
       "      <td>0.0</td>\n",
       "      <td>5.0</td>\n",
       "    </tr>\n",
       "    <tr>\n",
       "      <th>8780</th>\n",
       "      <td>2012-09-30 22:00</td>\n",
       "      <td>-3.0</td>\n",
       "      <td>11.3</td>\n",
       "      <td>2040.0</td>\n",
       "      <td>0.0</td>\n",
       "      <td>0.0</td>\n",
       "    </tr>\n",
       "    <tr>\n",
       "      <th>8781</th>\n",
       "      <td>2012-09-30 23:00</td>\n",
       "      <td>-3.0</td>\n",
       "      <td>10.4</td>\n",
       "      <td>2037.0</td>\n",
       "      <td>0.0</td>\n",
       "      <td>-3.0</td>\n",
       "    </tr>\n",
       "  </tbody>\n",
       "</table>\n",
       "<p>8782 rows × 6 columns</p>\n",
       "</div>"
      ],
      "text/plain": [
       "                  Date  SWE_mm  Temp_degC  Prcp_mm  SWE_dif  PR_dif\n",
       "0     2011-10-01 00:00     0.0        8.9      0.0      NaN     NaN\n",
       "1     2011-10-01 01:00     5.0        8.7      0.0      5.0     0.0\n",
       "2     2011-10-01 02:00     8.0        8.4      0.0      3.0     0.0\n",
       "3     2011-10-01 03:00     5.0        8.2      3.0     -3.0     3.0\n",
       "4     2011-10-01 04:00     5.0        8.0      0.0      0.0    -3.0\n",
       "...                ...     ...        ...      ...      ...     ...\n",
       "8777  2012-09-30 19:00    -3.0       12.1   2032.0      0.0     3.0\n",
       "8778  2012-09-30 20:00    -3.0       12.0   2035.0      0.0     3.0\n",
       "8779  2012-09-30 21:00    -3.0       11.3   2040.0      0.0     5.0\n",
       "8780  2012-09-30 22:00    -3.0       11.3   2040.0      0.0     0.0\n",
       "8781  2012-09-30 23:00    -3.0       10.4   2037.0      0.0    -3.0\n",
       "\n",
       "[8782 rows x 6 columns]"
      ]
     },
     "execution_count": 103,
     "metadata": {},
     "output_type": "execute_result"
    }
   ],
   "source": [
    "data['SWE_dif']=data['SWE_mm'].diff()\n",
    "data['PR_dif']=data['Prcp_mm'].diff()\n",
    "data"
   ]
  },
  {
   "cell_type": "code",
   "execution_count": 111,
   "metadata": {},
   "outputs": [
    {
     "data": {
      "text/plain": [
       "<matplotlib.axes._subplots.AxesSubplot at 0x7fe64069d580>"
      ]
     },
     "execution_count": 111,
     "metadata": {},
     "output_type": "execute_result"
    },
    {
     "data": {
      "image/png": "[encoded data removed]",
      "text/plain": [
       "<Figure size 432x288 with 1 Axes>"
      ]
     },
     "metadata": {
      "needs_background": "light"
     },
     "output_type": "display_data"
    }
   ],
   "source": [
    "data[data['SWE_mm']<0]=0\n",
    "data['SWE_mm'].plot()"
   ]
  },
  {
   "cell_type": "code",
   "execution_count": 114,
   "metadata": {},
   "outputs": [
    {
     "data": {
      "text/plain": [
       "549.0"
      ]
     },
     "execution_count": 114,
     "metadata": {},
     "output_type": "execute_result"
    }
   ],
   "source": [
    "data['SWE_mm'].max()"
   ]
  },
  {
   "cell_type": "code",
   "execution_count": 115,
   "metadata": {},
   "outputs": [
    {
     "data": {
      "text/plain": [
       "<matplotlib.axes._subplots.AxesSubplot at 0x7fe640672790>"
      ]
     },
     "execution_count": 115,
     "metadata": {},
     "output_type": "execute_result"
    },
    {
     "data": {
      "image/png": "[encoded data removed]",
      "text/plain": [
       "<Figure size 432x288 with 1 Axes>"
      ]
     },
     "metadata": {
      "needs_background": "light"
     },
     "output_type": "display_data"
    }
   ],
   "source": [
    "data['SWE_dif'].plot()"
   ]
  },
  {
   "cell_type": "code",
   "execution_count": 116,
   "metadata": {},
   "outputs": [
    {
     "data": {
      "text/plain": [
       "(-15.0, 13.0)"
      ]
     },
     "execution_count": 116,
     "metadata": {},
     "output_type": "execute_result"
    }
   ],
   "source": [
    "data['SWE_dif'].min(),data['SWE_dif'].max()"
   ]
  },
  {
   "cell_type": "code",
   "execution_count": 98,
   "metadata": {},
   "outputs": [
    {
     "data": {
      "text/plain": [
       "<matplotlib.axes._subplots.AxesSubplot at 0x7fe6905f8d30>"
      ]
     },
     "execution_count": 98,
     "metadata": {},
     "output_type": "execute_result"
    },
    {
     "data": {
      "image/png": "[encoded data removed]",
      "text/plain": [
       "<Figure size 432x288 with 1 Axes>"
      ]
     },
     "metadata": {
      "needs_background": "light"
     },
     "output_type": "display_data"
    }
   ],
   "source": [
    "data['Temp_degC'].plot()"
   ]
  },
  {
   "cell_type": "code",
   "execution_count": 99,
   "metadata": {},
   "outputs": [
    {
     "data": {
      "text/plain": [
       "<matplotlib.axes._subplots.AxesSubplot at 0x7fe7062b9d90>"
      ]
     },
     "execution_count": 99,
     "metadata": {},
     "output_type": "execute_result"
    },
    {
     "data": {
      "image/png": "[encoded data removed]",
      "text/plain": [
       "<Figure size 432x288 with 1 Axes>"
      ]
     },
     "metadata": {
      "needs_background": "light"
     },
     "output_type": "display_data"
    }
   ],
   "source": [
    "data['Prcp_mm'].plot()"
   ]
  },
  {
   "cell_type": "code",
   "execution_count": 108,
   "metadata": {},
   "outputs": [
    {
     "data": {
      "text/plain": [
       "<matplotlib.axes._subplots.AxesSubplot at 0x7fe6405b1eb0>"
      ]
     },
     "execution_count": 108,
     "metadata": {},
     "output_type": "execute_result"
    },
    {
     "data": {
      "image/png": "[encoded data removed]",
      "text/plain": [
       "<Figure size 432x288 with 1 Axes>"
      ]
     },
     "metadata": {
      "needs_background": "light"
     },
     "output_type": "display_data"
    }
   ],
   "source": [
    "data['PR_dif'].plot()"
   ]
  },
  {
   "cell_type": "code",
   "execution_count": 109,
   "metadata": {},
   "outputs": [
    {
     "data": {
      "text/plain": [
       "(30.0, -28.0)"
      ]
     },
     "execution_count": 109,
     "metadata": {},
     "output_type": "execute_result"
    }
   ],
   "source": [
    "data['PR_dif'].max(),data['PR_dif'].min()"
   ]
  },
  {
   "cell_type": "code",
   "execution_count": 107,
   "metadata": {},
   "outputs": [],
   "source": [
    "data[data['PR_dif']>200]=0\n",
    "data[data['PR_dif']<-200]=0"
   ]
  },
  {
   "cell_type": "code",
   "execution_count": null,
   "metadata": {},
   "outputs": [],
   "source": []
  }
 ],
 "metadata": {
  "kernelspec": {
   "display_name": "Python 3",
   "language": "python",
   "name": "python3"
  },
  "language_info": {
   "codemirror_mode": {
    "name": "ipython",
    "version": 3
   },
   "file_extension": ".py",
   "mimetype": "text/x-python",
   "name": "python",
   "nbconvert_exporter": "python",
   "pygments_lexer": "ipython3",
   "version": "3.8.3"
  }
 },
 "nbformat": 4,
 "nbformat_minor": 4
}
