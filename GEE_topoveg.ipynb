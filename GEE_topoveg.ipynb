{
 "cells": [
  {
   "cell_type": "code",
   "execution_count": 1,
   "metadata": {},
   "outputs": [],
   "source": [
    "#https://github.com/giswqs/geemap/blob/master/examples/notebooks/11_export_image.ipynb\n",
    "import ee\n",
    "import geemap\n",
    "import numpy as np\n",
    "import matplotlib.pyplot as plt\n",
    "import os\n",
    "import pandas as pd\n",
    "import rasterio as rio\n",
    "import requests\n",
    "# Initialize the Earth Engine module.\n",
    "ee.Initialize()"
   ]
  },
  {
   "cell_type": "code",
   "execution_count": 2,
   "metadata": {},
   "outputs": [],
   "source": [
    "#########################################################################\n",
    "############################ USER INPUTS ################################\n",
    "#########################################################################\n",
    "# PATHS\n",
    "# path to temporary folder to store tif files from gee\n",
    "TIFpath = 'GEE_Downloads/'\n",
    "\n",
    "# DOMAIN\n",
    "# choose the modeling domain\n",
    "domain = 'WY'\n",
    "\n",
    "# path to where you want your output met .dat fime\n",
    "OUT_DEMpath = 'DEM_'+domain+'.asc'\n",
    "OUT_LCpath = 'NLC2016_'+domain+'.asc'\n",
    "OUT_LATpath = 'grid_lat.asc'\n",
    "OUT_LONpath = 'grid_lon.asc'\n",
    "\n",
    "# # TIME\n",
    "# # choose if want to set 'manual' or 'auto' date \n",
    "# date_flag = 'auto'\n",
    "# # If you choose 'manual' set your dates below  \n",
    "# # This will start on the 'begin' date at 0:00 and the last iteration will \n",
    "# # be on the day before the 'end' date below.\n",
    "# st_dt = '2020-04-03'\n",
    "# ed_dt = '2020-04-04'\n",
    "#########################################################################"
   ]
  },
  {
   "cell_type": "markdown",
   "metadata": {},
   "source": [
    "# Download DEM and LC data from GEE"
   ]
  },
  {
   "cell_type": "code",
   "execution_count": 3,
   "metadata": {},
   "outputs": [],
   "source": [
    "# Download CFSv2 met data function\n",
    "def get_topoveg(domain, TIFpath):\n",
    "    \n",
    "    #create directory for temporary TIFF files\n",
    "    !mkdir -p $TIFpath\n",
    "\n",
    "    #path to CSO domains\n",
    "    domains_resp = requests.get(\"https://raw.githubusercontent.com/snowmodel-tools/preprocess_python/master/CSO_domains.json\")\n",
    "    domains = domains_resp.json()\n",
    "\n",
    "    '''\n",
    "    // These are the min and max corners of your domain in Lat, Long\n",
    "    // Western Wyoming\n",
    "    // Input the minimum lat, lower left corner\n",
    "    '''\n",
    "    minLat = domains[domain]['Bbox']['latmin']\n",
    "    #// Input the minimum long, lower left corner\n",
    "    minLong = domains[domain]['Bbox']['lonmin']\n",
    "    #// Input the max lat, upper right corner\n",
    "    maxLat = domains[domain]['Bbox']['latmax']\n",
    "    #// Input the max Long, upper right corner\n",
    "    maxLong = domains[domain]['Bbox']['lonmax']\n",
    "\n",
    "\n",
    "    # This resolution for the NLCD and DEM outputs for the SnowModel domain in meters\n",
    "    sm_resolution = int(domains[domain]['cellsize'])\n",
    "\n",
    "    '''// Resolution for the PRISM output. This shoud change by Latitude of the domain\n",
    "    // because the PRISM product spatial resolution is 2.5 minutes, which equals 150 arc seconds.\n",
    "    // You can use this arc-second calculator to estimate the correct value for the PRISM resolution by latitude\n",
    "    // https://opendem.info/arc2meters.html\n",
    "    // This is one arc-second in meters for 43 degrees N Latitude'''\n",
    "    one_arcsecond = 22.57\n",
    "    PRISM_resolution = one_arcsecond * 150\n",
    "\n",
    "    '''// Define the final output projection using EPSG codes'''\n",
    "    epsg_code = domains[domain]['mod_proj']\n",
    "\n",
    "    my_domain = ee.Geometry.Rectangle(**{'coords':[minLong,minLat,maxLong,maxLat],'proj': 'EPSG:4326','geodesic':True,});\n",
    "    \n",
    "        #################### adjust for AK ##########################\n",
    "    #need to specifiy different GEE products for above 60 deg lat\n",
    "    #if maxLat>60:\n",
    "    \n",
    "    # download 30m SRTM data\n",
    "    #// NOTE: This only covers through 60 degrees latitude. See visualization layers.\n",
    "    SRTM30 = ee.Image('CGIAR/SRTM90_V4')#ee.Image('USGS/SRTMGL1_003')\n",
    "    #image = SRTM30.clip(my_domain).unmask()\n",
    "    filename = os.path.join(TIFpath, 'DEM.tif')\n",
    "    geemap.ee_export_image(SRTM30, filename=filename, scale=sm_resolution, region=my_domain, crs = epsg_code)\n",
    "    \n",
    "    # download NLCD data\n",
    "    NLCD = ee.ImageCollection('USGS/NLCD');\n",
    "    landcover = NLCD.select('landcover');\n",
    "    #// Define the timeframe of NLCD images to select. Currently, its set to the previous 5 years.\n",
    "    landcoverfiltered=landcover.filterDate('2015-01-01','2020-01-01');\n",
    "    #// Create a single image out of the image collection using the most common land cover \n",
    "    #// designation from the previous 5 years.\n",
    "    lcsingle=landcoverfiltered.mode();\n",
    "    filename = os.path.join(TIFpath, 'NLCD2016.tif')\n",
    "    geemap.ee_export_image(lcsingle, filename=filename, scale=sm_resolution, region=my_domain, file_per_band=False, crs = epsg_code)"
   ]
  },
  {
   "cell_type": "code",
   "execution_count": 4,
   "metadata": {},
   "outputs": [
    {
     "name": "stdout",
     "output_type": "stream",
     "text": [
      "Generating URL ...\n",
      "Downloading data from https://earthengine.googleapis.com/v1alpha/projects/earthengine-legacy/thumbnails/8c88fb8126f755be6d65a30b028e268b-1540178cab978cbd18c0fa96df775119:getPixels\n",
      "Please wait ...\n",
      "Data downloaded to /nfs/attic/dfh/Aragon2/Notebooks/preprocess_python/GEE_Downloads/DEM.tif\n",
      "Generating URL ...\n",
      "Downloading data from https://earthengine.googleapis.com/v1alpha/projects/earthengine-legacy/thumbnails/92166840d377f9cb06c6e48fa5f5fba5-c4abf08a506d4906c61ea4b609a3a243:getPixels\n",
      "Please wait ...\n",
      "Data downloaded to /nfs/attic/dfh/Aragon2/Notebooks/preprocess_python/GEE_Downloads/NLCD2016.tif\n"
     ]
    }
   ],
   "source": [
    "get_topoveg(domain, TIFpath)"
   ]
  },
  {
   "cell_type": "markdown",
   "metadata": {},
   "source": [
    "# DEM"
   ]
  },
  {
   "cell_type": "code",
   "execution_count": 80,
   "metadata": {},
   "outputs": [],
   "source": [
    "# dem\n",
    "def DEM2SM(INfile, OUTfile):\n",
    "    src=rio.open(INfile)\n",
    "    dem=src.read(1)\n",
    "    #ascii header \n",
    "    head = \"ncols \"+str(np.shape(dem)[1])+\"\\n\" \\\n",
    "    \"nrows \"+str(np.shape(dem)[0])+\"\\n\" \\\n",
    "    \"xllcorner     \"+str(int(src.bounds.left))+\"\\n\" \\\n",
    "    \"yllcorner     \"+str(int(src.bounds.bottom))+\"\\n\" \\\n",
    "    \"cellsize      \"+str(int(src.res[0]))+\"\\n\" \\\n",
    "    \"NODATA_value  -9999\"\n",
    "    np.savetxt(OUTfile, dem, fmt='%d', header = head,comments='')"
   ]
  },
  {
   "cell_type": "code",
   "execution_count": 81,
   "metadata": {},
   "outputs": [],
   "source": [
    "INfile = TIFpath+'DEM.tif'\n",
    "DEM2SM(INfile, OUT_DEMpath)"
   ]
  },
  {
   "cell_type": "markdown",
   "metadata": {},
   "source": [
    "# Landcover \n",
    "\n",
    "### NLCD LC Codes\n",
    "\n",
    "|Code|NLCD2016 Landclass|Code|NLCD2016 Landclass|\n",
    "| :-: | :-: | :-: | :-: |\n",
    "|11 | open water |51 | dwarf shrub|\n",
    "|12| ice / snow |52 | shrub/scrub|\n",
    "|21 | developed; open space |71 | grassland/herbaceous|\n",
    "|22 | developed; low intensity|72 | hedge/herbaceous|\n",
    "|23 | developed; med intensity|73 | lichens|\n",
    "|24 | developed; high intensity|74 | moss|\n",
    "|31 | barren; rock, sand, clay|81 | pasture/hay|\n",
    "|41 | deciduous forest|82 | cultivated crops|\n",
    "|42 | evergreen forest|90 | woody wetlands|\n",
    "|43 | mixed shrub|95 | emergent herbaceous wetlands|\n",
    "\n",
    "\n",
    "### Snowmodel LC Codes\n",
    "\n",
    "|Code  |Landcover Class |Code  |Landcover Class |\n",
    "| --- | --- | --- | --- |\n",
    "|1     | coniferous forest |13    | subalpine meadow  |      \n",
    "|2     | deciduous forest |14    | tundra (non-tussock) |      \n",
    "|3     | mixed forest |15    | tundra (tussock) |           \n",
    "|4     | scattered short-conifer |16    | prostrate shrub tundra | \n",
    "|5     | clearcut conifer |17    | arctic gram. wetland |       \n",
    "|6     | mesic upland shrub |18    | bare |       \n",
    "|7     | xeric upland shrub |19    | water/possibly frozen |       \n",
    "|8     | playa shrubland |20    | permanent snow/glacier |         \n",
    "|9     | shrub wetland/riparian |21    | residential/urban |   \n",
    "|10    | erect shrub tundra |22    | tall crops |       \n",
    "|11    | low shrub tundra |23    | short crops |        \n",
    "|12    | grassland rangeland  |24    | ocean |    "
   ]
  },
  {
   "cell_type": "code",
   "execution_count": 78,
   "metadata": {},
   "outputs": [],
   "source": [
    "# landcover data \n",
    "def LC2SM(INfile,OUTfile):\n",
    "    src=rio.open(INfile)\n",
    "    lc=src.read(1)\n",
    "    #ascii header \n",
    "    head = \"ncols \"+str(np.shape(lc)[1])+\"\\n\" \\\n",
    "    \"nrows \"+str(np.shape(lc)[0])+\"\\n\" \\\n",
    "    \"xllcorner     \"+str(int(src.bounds.left))+\"\\n\" \\\n",
    "    \"yllcorner     \"+str(int(src.bounds.bottom))+\"\\n\" \\\n",
    "    \"cellsize      \"+str(int(src.res[0]))+\"\\n\" \\\n",
    "    \"NODATA_value  -9999\"\n",
    "\n",
    "    #reassign lc from NLCD to SM classes\n",
    "    DIR=DIR=np.empty([np.shape(lc)[0],np.shape(lc)[1]])\n",
    "    DIR[lc == 11 ]=24\n",
    "    DIR[lc == 12 ]=20\n",
    "    DIR[lc == 21 ]=21\n",
    "    DIR[lc == 22 ]=21\n",
    "    DIR[lc == 23 ]=21\n",
    "    DIR[lc == 24 ]=21\n",
    "    DIR[lc == 31 ]=18\n",
    "    DIR[lc == 41 ]=2\n",
    "    DIR[lc == 42 ]=1\n",
    "    DIR[lc == 43 ]=6\n",
    "    DIR[lc == 51 ]=6\n",
    "    DIR[lc == 52 ]=6\n",
    "    DIR[lc == 71 ]=12\n",
    "    DIR[lc == 72 ]=12\n",
    "    DIR[lc == 73 ]=12\n",
    "    DIR[lc == 74 ]=12\n",
    "    DIR[lc == 81 ]=23\n",
    "    DIR[lc == 82 ]=22\n",
    "    DIR[lc == 90 ]=9\n",
    "    DIR[lc == 95 ]=9\n",
    "    DIR.astype(int)\n",
    "    np.savetxt(OUTfile, DIR, fmt='%d', header = head,comments='')"
   ]
  },
  {
   "cell_type": "code",
   "execution_count": 79,
   "metadata": {},
   "outputs": [],
   "source": [
    "INfile = TIFpath+'NLCD2016.tif'\n",
    "LC2SM(INfile, OUT_LCpath)"
   ]
  },
  {
   "cell_type": "markdown",
   "metadata": {},
   "source": [
    "# Lat long grids"
   ]
  }
 ],
 "metadata": {
  "kernelspec": {
   "display_name": "Python [conda env:ee]",
   "language": "python",
   "name": "conda-env-ee-py"
  },
  "language_info": {
   "codemirror_mode": {
    "name": "ipython",
    "version": 3
   },
   "file_extension": ".py",
   "mimetype": "text/x-python",
   "name": "python",
   "nbconvert_exporter": "python",
   "pygments_lexer": "ipython3",
   "version": "3.9.2"
  }
 },
 "nbformat": 4,
 "nbformat_minor": 4
}
