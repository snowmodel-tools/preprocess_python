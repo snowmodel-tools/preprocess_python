{
 "cells": [
  {
   "cell_type": "code",
   "execution_count": 9,
   "metadata": {},
   "outputs": [],
   "source": [
    "import ee\n",
    "import geemap\n",
    "import numpy as np\n",
    "import matplotlib.pyplot as plt\n",
    "import os\n",
    "import pandas as pd\n",
    "import requests\n",
    "from rasterio.warp import transform\n",
    "import xarray as xr\n",
    "# Initialize the Earth Engine module.\n",
    "ee.Initialize()"
   ]
  },
  {
   "cell_type": "code",
   "execution_count": 10,
   "metadata": {},
   "outputs": [],
   "source": [
    "#########################################################################\n",
    "############################ USER INPUTS ################################\n",
    "#########################################################################\n",
    "# PATHS\n",
    "# path to temporary folder to store tif files from gee\n",
    "TIFpath = 'GEE_Downloads_tst/'\n",
    "\n",
    "# DOMAIN\n",
    "# choose the modeling domain\n",
    "domain = 'SUS'\n",
    "\n",
    "# path to directory where you want your output .tif and .asc files\n",
    "dataPath = '/nfs/attic/dfh/Aragon2/CSOdmn/'+domain+'/'\n",
    "#########################################################################"
   ]
  },
  {
   "cell_type": "markdown",
   "metadata": {},
   "source": [
    "# Download DEM and LC data from GEE"
   ]
  },
  {
   "cell_type": "code",
   "execution_count": 13,
   "metadata": {},
   "outputs": [],
   "source": [
    "# Download CFSv2 met data function\n",
    "def get_topoveg(domain, OUTpath):\n",
    "    \n",
    "    #path to CSO domains\n",
    "    domains_resp = requests.get(\"https://raw.githubusercontent.com/snowmodel-tools/preprocess_python/master/CSO_domains.json\")\n",
    "    domains = domains_resp.json()\n",
    "\n",
    "    '''\n",
    "    // These are the min and max corners of your domain in Lat, Long\n",
    "    // SUS\n",
    "    // Input the minimum lat, lower left corner\n",
    "    '''\n",
    "    minLat = domains[domain]['Bbox']['latmin']\n",
    "    #// Input the minimum long, lower left corner\n",
    "    minLong = domains[domain]['Bbox']['lonmin']\n",
    "    #// Input the max lat, upper right corner\n",
    "    maxLat = domains[domain]['Bbox']['latmax']\n",
    "    #// Input the max Long, upper right corner\n",
    "    maxLong = domains[domain]['Bbox']['lonmax']\n",
    "\n",
    "\n",
    "    # This resolution for the NLCD and DEM outputs for the SnowModel domain in meters\n",
    "    sm_resolution = int(domains[domain]['cellsize'])\n",
    "\n",
    "    '''// Resolution for the PRISM output. This shoud change by Latitude of the domain\n",
    "    // because the PRISM product spatial resolution is 2.5 minutes, which equals 150 arc seconds.\n",
    "    // You can use this arc-second calculator to estimate the correct value for the PRISM resolution by latitude\n",
    "    // https://opendem.info/arc2meters.html\n",
    "    // This is one arc-second in meters for 43 degrees N Latitude'''\n",
    "    one_arcsecond = 22.57\n",
    "    PRISM_resolution = one_arcsecond * 150\n",
    "\n",
    "    '''// Define the final output projection using EPSG codes'''\n",
    "    epsg_code = domains[domain]['mod_proj']\n",
    "\n",
    "    my_domain = ee.Geometry.Rectangle(**{'coords':[minLong,minLat,maxLong,maxLat],'proj': 'EPSG:4326','geodesic':True,});\n",
    "    \n",
    "        #################### adjust for AK ##########################\n",
    "    #need to specifiy different GEE products for above 60 deg lat\n",
    "    #if maxLat>60:\n",
    "    \n",
    "    # download 30m SRTM data\n",
    "    #// NOTE: This only covers through 60 degrees latitude. See visualization layers.\n",
    "    SRTM30 = ee.Image('USGS/3DEP/10m').select('elevation');\n",
    "    #image = SRTM30.clip(my_domain).unmask()\n",
    "    filename = os.path.join(OUTpath, 'DEM_'+domain+'.tif');\n",
    "    geemap.ee_export_image(SRTM30, filename=filename, scale=sm_resolution, region=my_domain, crs = epsg_code);\n",
    "\n",
    "    \n",
    "    # download NLCD data\n",
    "    #//NLCD = ee.ImageCollection('USGS/NLCD');\n",
    "    NLCD = ee.Image('USGS/NLCD/NLCD2011_AK');\n",
    "    landcover = NLCD.select('landcover');\n",
    "    #// Define the timeframe of NLCD images to select. Currently, its set to the previous 5 years.\n",
    "    #//landcoverfiltered=landcover.filterDate('2015-01-01','2020-01-01');\n",
    "    #// Create a single image out of the image collection using the most common land cover \n",
    "    #// designation from the previous 5 years.\n",
    "    #//lcsingle=landcoverfiltered.mode();\n",
    "    filename = os.path.join(OUTpath, 'NLCD2016_'+domain+'.tif');\n",
    "    geemap.ee_export_image(landcover, filename=filename, scale=sm_resolution, region=my_domain, file_per_band=False, crs = epsg_code);"
   ]
  },
  {
   "cell_type": "code",
   "execution_count": 14,
   "metadata": {},
   "outputs": [
    {
     "name": "stdout",
     "output_type": "stream",
     "text": [
      "Generating URL ...\n",
      "Downloading data from https://earthengine.googleapis.com/v1alpha/projects/earthengine-legacy/thumbnails/a0a6fb2b374d8332eb67d8dc1f9eb575-2c29463d29347b69696222628abdde78:getPixels\n",
      "Please wait ...\n",
      "Data downloaded to /nfs/attic/dfh/Aragon2/CSOdmn/SUS/DEM_SUS.tif\n",
      "Generating URL ...\n",
      "Downloading data from https://earthengine.googleapis.com/v1alpha/projects/earthengine-legacy/thumbnails/c333ebdca73ccb0b541ac062ab544efe-61a6afd5099b842c5b1264ed1a559b2b:getPixels\n",
      "Please wait ...\n",
      "Data downloaded to /nfs/attic/dfh/Aragon2/CSOdmn/SUS/NLCD2016_SUS.tif\n"
     ]
    }
   ],
   "source": [
    "# execute GEE function\n",
    "get_topoveg(domain, dataPath);"
   ]
  },
  {
   "cell_type": "markdown",
   "metadata": {},
   "source": [
    "# DEM"
   ]
  },
  {
   "cell_type": "code",
   "execution_count": 15,
   "metadata": {},
   "outputs": [],
   "source": [
    "# dem\n",
    "def DEM2SM(INfile, OUTpath):\n",
    "    da = xr.open_rasterio(INfile)\n",
    "    \n",
    "    #ascii header \n",
    "    head = \"ncols\\t\"+str(da.shape[2])+\"\\n\" \\\n",
    "    \"nrows\\t\"+str(da.shape[1])+\"\\n\" \\\n",
    "    \"xllcorner\\t\"+str(int(min(da.x.values)-da.res[0]/2))+\"\\n\" \\\n",
    "    \"yllcorner\\t\"+str(int(min(da.y.values)-da.res[0]/2))+\"\\n\" \\\n",
    "    \"cellsize\\t\"+str(int(da.res[0]))+\"\\n\" \\\n",
    "    \"NODATA_value\\t-9999\"    \n",
    "    \n",
    "    np.savetxt(OUTpath+'DEM_'+domain+'.asc', np.squeeze(da.values), fmt='%d', header = head,comments='')"
   ]
  },
  {
   "cell_type": "markdown",
   "metadata": {},
   "source": [
    "# Landcover \n",
    "\n",
    "### NLCD LC Codes\n",
    "\n",
    "|Code|NLCD2016 Landclass|Code|NLCD2016 Landclass|\n",
    "| :-: | :-: | :-: | :-: |\n",
    "|11 | open water |51 | dwarf shrub|\n",
    "|12| ice / snow |52 | shrub/scrub|\n",
    "|21 | developed; open space |71 | grassland/herbaceous|\n",
    "|22 | developed; low intensity|72 | hedge/herbaceous|\n",
    "|23 | developed; med intensity|73 | lichens|\n",
    "|24 | developed; high intensity|74 | moss|\n",
    "|31 | barren; rock, sand, clay|81 | pasture/hay|\n",
    "|41 | deciduous forest|82 | cultivated crops|\n",
    "|42 | evergreen forest|90 | woody wetlands|\n",
    "|43 | mixed shrub|95 | emergent herbaceous wetlands|\n",
    "\n",
    "\n",
    "### Snowmodel LC Codes\n",
    "\n",
    "|Code  |Landcover Class |Code  |Landcover Class |\n",
    "| --- | --- | --- | --- |\n",
    "|1     | coniferous forest |13    | subalpine meadow  |      \n",
    "|2     | deciduous forest |14    | tundra (non-tussock) |      \n",
    "|3     | mixed forest |15    | tundra (tussock) |           \n",
    "|4     | scattered short-conifer |16    | prostrate shrub tundra | \n",
    "|5     | clearcut conifer |17    | arctic gram. wetland |       \n",
    "|6     | mesic upland shrub |18    | bare |       \n",
    "|7     | xeric upland shrub |19    | water/possibly frozen |       \n",
    "|8     | playa shrubland |20    | permanent snow/glacier |         \n",
    "|9     | shrub wetland/riparian |21    | residential/urban |   \n",
    "|10    | erect shrub tundra |22    | tall crops |       \n",
    "|11    | low shrub tundra |23    | short crops |        \n",
    "|12    | grassland rangeland  |24    | ocean |    "
   ]
  },
  {
   "cell_type": "code",
   "execution_count": 16,
   "metadata": {},
   "outputs": [],
   "source": [
    "# landcover data \n",
    "def LC2SM(INfile,OUTpath):\n",
    "    da = xr.open_rasterio(INfile)\n",
    "    data = np.squeeze(da.values)\n",
    "\n",
    "    #ascii header \n",
    "    head = \"ncols\\t\"+str(da.shape[2])+\"\\n\" \\\n",
    "    \"nrows\\t\"+str(da.shape[1])+\"\\n\" \\\n",
    "    \"xllcorner\\t\"+str(int(min(da.x.values)-da.res[0]/2))+\"\\n\" \\\n",
    "    \"yllcorner\\t\"+str(int(min(da.y.values)-da.res[0]/2))+\"\\n\" \\\n",
    "    \"cellsize\\t\"+str(int(da.res[0]))+\"\\n\" \\\n",
    "    \"NODATA_value\\t-9999\"\n",
    "    \n",
    "    #reassign lc from NLCD to SM classes\n",
    "    DIR=np.empty([da.shape[1],da.shape[2]])\n",
    "    DIR[data == 11 ]=19\n",
    "    DIR[data == 12 ]=20\n",
    "    DIR[data == 21 ]=21\n",
    "    DIR[data == 22 ]=21\n",
    "    DIR[data == 23 ]=21\n",
    "    DIR[data == 24 ]=21\n",
    "    DIR[data == 31 ]=18\n",
    "    DIR[data == 41 ]=2\n",
    "    DIR[data == 42 ]=1\n",
    "    DIR[data == 43 ]=6\n",
    "    DIR[data == 51 ]=6\n",
    "    DIR[data == 52 ]=6\n",
    "    DIR[data == 71 ]=12\n",
    "    DIR[data == 72 ]=12\n",
    "    DIR[data == 73 ]=12\n",
    "    DIR[data == 74 ]=12\n",
    "    DIR[data == 81 ]=23\n",
    "    DIR[data == 82 ]=22\n",
    "    DIR[data == 90 ]=9\n",
    "    DIR[data == 95 ]=9\n",
    "    DIR.astype(int)\n",
    "    np.savetxt(OUTpath+'NLCD2016_'+domain+'.asc', DIR, fmt='%d', header = head,comments='')"
   ]
  },
  {
   "cell_type": "markdown",
   "metadata": {},
   "source": [
    "# Lat long grids"
   ]
  },
  {
   "cell_type": "code",
   "execution_count": 17,
   "metadata": {},
   "outputs": [],
   "source": [
    "def LTLN2SM(INfile,OUTpath):\n",
    "    da = xr.open_rasterio(INfile)\n",
    "\n",
    "    # Compute the lon/lat coordinates with rasterio.warp.transform\n",
    "    ny, nx = len(da.y), len(da.x)\n",
    "    x, y = np.meshgrid(da.x, da.y)\n",
    "\n",
    "    # Rasterio works with 1D arrays\n",
    "    lon, lat = transform(da.crs, {'init': 'EPSG:4326'},\n",
    "                         x.flatten(), y.flatten())\n",
    "    lon = np.asarray(lon).reshape((ny, nx))\n",
    "    lat = np.asarray(lat).reshape((ny, nx))\n",
    "\n",
    "    #ascii header \n",
    "    head = \"ncols\\t\"+str(da.shape[2])+\"\\n\" \\\n",
    "    \"nrows\\t\"+str(da.shape[1])+\"\\n\" \\\n",
    "    \"xllcorner\\t\"+str(int(min(da.x.values)-da.res[0]/2))+\"\\n\" \\\n",
    "    \"yllcorner\\t\"+str(int(min(da.y.values)-da.res[0]/2))+\"\\n\" \\\n",
    "    \"cellsize\\t\"+str(int(da.res[0]))+\"\\n\" \\\n",
    "    \"NODATA_value\\t-9999\"\n",
    "    np.savetxt(OUTpath+'grid_lat_'+domain+'.asc', lat, fmt='%2.5f', header = head,comments='')\n",
    "    np.savetxt(OUTpath+'grid_lon_'+domain+'.asc', lon, fmt='%4.5f', header = head,comments='')"
   ]
  },
  {
   "cell_type": "markdown",
   "metadata": {},
   "source": [
    "# Execute functions"
   ]
  },
  {
   "cell_type": "code",
   "execution_count": 18,
   "metadata": {},
   "outputs": [],
   "source": [
    "# generate topo\n",
    "INfile = dataPath+'DEM_'+domain+'.tif'\n",
    "DEM2SM(INfile, dataPath)\n",
    "#generate veg\n",
    "INfile = dataPath+'NLCD2016_'+domain+'.tif'\n",
    "LC2SM(INfile, dataPath)\n",
    "#generate lat lon grids\n",
    "LTLN2SM(INfile,dataPath)"
   ]
  },
  {
   "cell_type": "code",
   "execution_count": null,
   "metadata": {},
   "outputs": [],
   "source": []
  },
  {
   "cell_type": "code",
   "execution_count": null,
   "metadata": {},
   "outputs": [],
   "source": []
  }
 ],
 "metadata": {
  "kernelspec": {
   "display_name": "Python [conda env:ee]",
   "language": "python",
   "name": "conda-env-ee-py"
  },
  "language_info": {
   "codemirror_mode": {
    "name": "ipython",
    "version": 3
   },
   "file_extension": ".py",
   "mimetype": "text/x-python",
   "name": "python",
   "nbconvert_exporter": "python",
   "pygments_lexer": "ipython3",
   "version": "3.9.2"
  }
 },
 "nbformat": 4,
 "nbformat_minor": 4
}
