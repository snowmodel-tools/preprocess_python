{
 "cells": [
  {
   "cell_type": "code",
   "execution_count": 12,
   "metadata": {},
   "outputs": [],
   "source": [
    "import numpy as np\n",
    "import geopandas as gpd\n",
    "import codecs"
   ]
  },
  {
   "cell_type": "code",
   "execution_count": 13,
   "metadata": {},
   "outputs": [],
   "source": [
    "########### USER ###########\n",
    "#set domain\n",
    "domain = 'CO'\n"
   ]
  },
  {
   "cell_type": "code",
   "execution_count": 14,
   "metadata": {},
   "outputs": [],
   "source": [
    "# path to SnowModel\n",
    "modpath = '/nfs/attic/dfh/Aragon2/mar2020_snowmodel-dfhill'+domain+'/'\n",
    "\n",
    "# path to DEM ascii\n",
    "DEMpath = '/nfs/attic/dfh/Aragon2/CSOdmn/'+domain+'/DEM_'+domain+'.asc'\n",
    "\n",
    "#path to SNOTEL gdf\n",
    "gdfpath = '/nfs/attic/dfh/Aragon2/CSOdata/'+domain+'/CSO_SNOTEL_sites.geojson'\n",
    "\n",
    "#path to VEG .asc\n",
    "VEGpath = '/nfs/attic/dfh/Aragon2/CSOdmn/'+domain+'/NLCD2016_'+domain+'.asc'\n",
    "\n",
    "#path to lat .asc\n",
    "LATpath = '/nfs/attic/dfh/Aragon2/CSOdmn/'+domain+'/grid_lat.asc'\n",
    "\n",
    "#path to lon .asc\n",
    "LONpath = '/nfs/attic/dfh/Aragon2/CSOdmn/'+domain+'/grid_lon.asc'\n",
    "\n",
    "# VEG outfile path\n",
    "outVEGpath = modpath+'topo_vege/NLCD2016_line_'+domain+'.asc'\n",
    "\n",
    "# DEM outfile path\n",
    "outDEMpath = modpath+'topo_vege/DEM_line_'+domain+'.asc'\n",
    "\n",
    "# Line outfile path\n",
    "outFpath = modpath+'extra_met/snowmodel_line_pts.dat'\n",
    "\n",
    "#lon outfile path\n",
    "outLONpath = modpath+'extra_met/grid_lon.asc'\n",
    "\n",
    "#lat outfile path\n",
    "outLATpath = modpath+'extra_met/grid_lat.asc'\n",
    "\n",
    "# station data\n",
    "stn_gdf = gpd.read_file(gdfpath)"
   ]
  },
  {
   "cell_type": "code",
   "execution_count": 15,
   "metadata": {},
   "outputs": [],
   "source": [
    "def getmeta(file_name):\n",
    "    myvars = {}\n",
    "    lines = open(file_name, 'r').readlines()\n",
    "    for i in range(5):\n",
    "        line=lines[i]\n",
    "        name, var = line.partition(\"\\t\")[::2]\n",
    "        myvars[name.strip()] = int(var)\n",
    "    return myvars"
   ]
  },
  {
   "cell_type": "code",
   "execution_count": 16,
   "metadata": {},
   "outputs": [
    {
     "data": {
      "text/plain": [
       "{'ncols': 3289,\n",
       " 'nrows': 4166,\n",
       " 'xllcorner': 188900,\n",
       " 'yllcorner': 4105900,\n",
       " 'cellsize': 100}"
      ]
     },
     "execution_count": 16,
     "metadata": {},
     "output_type": "execute_result"
    }
   ],
   "source": [
    "myvars = getmeta(DEMpath)\n",
    "myvars"
   ]
  },
  {
   "cell_type": "code",
   "execution_count": 17,
   "metadata": {},
   "outputs": [],
   "source": [
    "#Build northing easting array \n",
    "#Northing\n",
    "# locate center of lower left cell\n",
    "st = myvars['yllcorner']+(myvars['cellsize']/2)\n",
    "#build northing array\n",
    "north = np.flip(np.arange(st,st+myvars['nrows']*myvars['cellsize'],myvars['cellsize']),0)\n",
    "\n",
    "#Easting\n",
    "# locate center of lower left cell\n",
    "st = myvars['xllcorner']+(myvars['cellsize']/2)\n",
    "#build easting array\n",
    "east = np.arange(st,st+myvars['ncols']*myvars['cellsize'],myvars['cellsize'])"
   ]
  },
  {
   "cell_type": "code",
   "execution_count": 18,
   "metadata": {},
   "outputs": [],
   "source": [
    "#fortran indexing starts at 1\n",
    "#staion 1 to N of N stations\n",
    "count = np.zeros(stn_gdf.shape[0])\n",
    "#easting of pixel corresponding to station \n",
    "stn_est = np.zeros(stn_gdf.shape[0])\n",
    "#northing of pixel corresponding to station\n",
    "stn_nor = np.zeros(stn_gdf.shape[0])\n",
    "#index of pixel corresponding to station \n",
    "est_idx = np.zeros(stn_gdf.shape[0])\n",
    "#index of pixel corresponding to station \n",
    "nor_idx = np.zeros(stn_gdf.shape[0])\n",
    "\n",
    "for z in range(stn_gdf.shape[0]):\n",
    "    count[z] = z + 1\n",
    "    lons = abs(stn_gdf.easting[z]-east)\n",
    "    loIDX = [i for i, value in enumerate(lons) if value == np.min(abs(stn_gdf.easting[z]-east))] \n",
    "    stn_est[z] = east[loIDX[0]]\n",
    "    est_idx[z] = loIDX[0] + 1\n",
    "    lats = abs(stn_gdf.northing[z]-north)\n",
    "    laIDX = [i for i, value in enumerate(lats) if value == np.min(abs(stn_gdf.northing[z]-north))]\n",
    "    stn_nor[z] = north[laIDX[0]]\n",
    "    nor_idx[z] = laIDX[0] + 1"
   ]
  },
  {
   "cell_type": "code",
   "execution_count": 19,
   "metadata": {},
   "outputs": [
    {
     "name": "stdout",
     "output_type": "stream",
     "text": [
      "[  1.   2.   3.   4.   5.   6.   7.   8.   9.  10.  11.  12.  13.  14.\n",
      "  15.  16.  17.  18.  19.  20.  21.  22.  23.  24.  25.  26.  27.  28.\n",
      "  29.  30.  31.  32.  33.  34.  35.  36.  37.  38.  39.  40.  41.  42.\n",
      "  43.  44.  45.  46.  47.  48.  49.  50.  51.  52.  53.  54.  55.  56.\n",
      "  57.  58.  59.  60.  61.  62.  63.  64.  65.  66.  67.  68.  69.  70.\n",
      "  71.  72.  73.  74.  75.  76.  77.  78.  79.  80.  81.  82.  83.  84.\n",
      "  85.  86.  87.  88.  89.  90.  91.  92.  93.  94.  95.  96.  97.  98.\n",
      "  99. 100. 101. 102. 103. 104. 105. 106. 107. 108. 109.]\n"
     ]
    }
   ],
   "source": [
    "print(count)"
   ]
  },
  {
   "cell_type": "code",
   "execution_count": 20,
   "metadata": {},
   "outputs": [],
   "source": [
    "#Print out .dat file \n",
    "#https://pyformat.info/\n",
    "f= open(outFpath,\"w+\")\n",
    "for z in range(count.shape[0]):\n",
    "    f.write('{:08.0f}\\t'.format(count[z])+'{:10.0f}\\t'.format(est_idx[z])+'{:10.0f}\\t'.format(nor_idx[z])+\n",
    "            '{:10.0f}\\t'.format(stn_est[z])+'{:10.0f}\\t\\n'.format(stn_nor[z]))\n",
    "f.close() "
   ]
  },
  {
   "cell_type": "markdown",
   "metadata": {},
   "source": [
    "## Extract topo, veg, lat, and lon files for snowmodel_line"
   ]
  },
  {
   "cell_type": "code",
   "execution_count": 21,
   "metadata": {},
   "outputs": [],
   "source": [
    "# function to extract .asc files at SNOTEL locations\n",
    "def field2line(filepath,outpath):\n",
    "    with codecs.open(filepath, encoding='utf-8-sig') as f:\n",
    "        data = np.loadtxt(f,skiprows=6)\n",
    "    data_line=[]\n",
    "    for i in range(count.shape[0]):\n",
    "        data_line.append(str(int(data[int(nor_idx[i]-1),int(est_idx[i]-1)])))\n",
    "    lines = open(filepath, 'r').readlines()\n",
    "    head = 'ncols\\t1\\nnrows\\t'+str(count.shape[0])+'\\n'+lines[2]+lines[3]+lines[4]+lines[5]\n",
    "    data = ''\n",
    "    for s in data_line:\n",
    "        data += s +'\\n'\n",
    "    f= open(outpath,\"w+\")\n",
    "    f.write(head+data)\n",
    "    f.close()"
   ]
  },
  {
   "cell_type": "code",
   "execution_count": 22,
   "metadata": {
    "collapsed": true,
    "jupyter": {
     "outputs_hidden": true
    }
   },
   "outputs": [
    {
     "ename": "FileNotFoundError",
     "evalue": "[Errno 2] No such file or directory: '/nfs/attic/dfh/Aragon2/CSOdmn/CO/grid_lat.asc'",
     "output_type": "error",
     "traceback": [
      "\u001b[0;31m---------------------------------------------------------------------------\u001b[0m",
      "\u001b[0;31mFileNotFoundError\u001b[0m                         Traceback (most recent call last)",
      "\u001b[0;32m<ipython-input-22-37b5484d1c87>\u001b[0m in \u001b[0;36m<module>\u001b[0;34m\u001b[0m\n\u001b[1;32m      4\u001b[0m \u001b[0mfield2line\u001b[0m\u001b[0;34m(\u001b[0m\u001b[0mVEGpath\u001b[0m\u001b[0;34m,\u001b[0m\u001b[0moutVEGpath\u001b[0m\u001b[0;34m)\u001b[0m\u001b[0;34m\u001b[0m\u001b[0;34m\u001b[0m\u001b[0m\n\u001b[1;32m      5\u001b[0m \u001b[0;31m#extract LAT\u001b[0m\u001b[0;34m\u001b[0m\u001b[0;34m\u001b[0m\u001b[0;34m\u001b[0m\u001b[0m\n\u001b[0;32m----> 6\u001b[0;31m \u001b[0mfield2line\u001b[0m\u001b[0;34m(\u001b[0m\u001b[0mLATpath\u001b[0m\u001b[0;34m,\u001b[0m\u001b[0moutLATpath\u001b[0m\u001b[0;34m)\u001b[0m\u001b[0;34m\u001b[0m\u001b[0;34m\u001b[0m\u001b[0m\n\u001b[0m\u001b[1;32m      7\u001b[0m \u001b[0;31m#extract LON\u001b[0m\u001b[0;34m\u001b[0m\u001b[0;34m\u001b[0m\u001b[0;34m\u001b[0m\u001b[0m\n\u001b[1;32m      8\u001b[0m \u001b[0mfield2line\u001b[0m\u001b[0;34m(\u001b[0m\u001b[0mLONpath\u001b[0m\u001b[0;34m,\u001b[0m\u001b[0moutLONpath\u001b[0m\u001b[0;34m)\u001b[0m\u001b[0;34m\u001b[0m\u001b[0;34m\u001b[0m\u001b[0m\n",
      "\u001b[0;32m<ipython-input-21-0aa48bc229aa>\u001b[0m in \u001b[0;36mfield2line\u001b[0;34m(filepath, outpath)\u001b[0m\n\u001b[1;32m      1\u001b[0m \u001b[0;31m# function to extract .asc files at SNOTEL locations\u001b[0m\u001b[0;34m\u001b[0m\u001b[0;34m\u001b[0m\u001b[0;34m\u001b[0m\u001b[0m\n\u001b[1;32m      2\u001b[0m \u001b[0;32mdef\u001b[0m \u001b[0mfield2line\u001b[0m\u001b[0;34m(\u001b[0m\u001b[0mfilepath\u001b[0m\u001b[0;34m,\u001b[0m\u001b[0moutpath\u001b[0m\u001b[0;34m)\u001b[0m\u001b[0;34m:\u001b[0m\u001b[0;34m\u001b[0m\u001b[0;34m\u001b[0m\u001b[0m\n\u001b[0;32m----> 3\u001b[0;31m     \u001b[0;32mwith\u001b[0m \u001b[0mcodecs\u001b[0m\u001b[0;34m.\u001b[0m\u001b[0mopen\u001b[0m\u001b[0;34m(\u001b[0m\u001b[0mfilepath\u001b[0m\u001b[0;34m,\u001b[0m \u001b[0mencoding\u001b[0m\u001b[0;34m=\u001b[0m\u001b[0;34m'utf-8-sig'\u001b[0m\u001b[0;34m)\u001b[0m \u001b[0;32mas\u001b[0m \u001b[0mf\u001b[0m\u001b[0;34m:\u001b[0m\u001b[0;34m\u001b[0m\u001b[0;34m\u001b[0m\u001b[0m\n\u001b[0m\u001b[1;32m      4\u001b[0m         \u001b[0mdata\u001b[0m \u001b[0;34m=\u001b[0m \u001b[0mnp\u001b[0m\u001b[0;34m.\u001b[0m\u001b[0mloadtxt\u001b[0m\u001b[0;34m(\u001b[0m\u001b[0mf\u001b[0m\u001b[0;34m,\u001b[0m\u001b[0mskiprows\u001b[0m\u001b[0;34m=\u001b[0m\u001b[0;36m6\u001b[0m\u001b[0;34m)\u001b[0m\u001b[0;34m\u001b[0m\u001b[0;34m\u001b[0m\u001b[0m\n\u001b[1;32m      5\u001b[0m     \u001b[0mdata_line\u001b[0m\u001b[0;34m=\u001b[0m\u001b[0;34m[\u001b[0m\u001b[0;34m]\u001b[0m\u001b[0;34m\u001b[0m\u001b[0;34m\u001b[0m\u001b[0m\n",
      "\u001b[0;32m/nfs/attic/dfh/miniconda/envs/snowmodelcal/lib/python3.6/codecs.py\u001b[0m in \u001b[0;36mopen\u001b[0;34m(filename, mode, encoding, errors, buffering)\u001b[0m\n\u001b[1;32m    895\u001b[0m         \u001b[0;31m# Force opening of the file in binary mode\u001b[0m\u001b[0;34m\u001b[0m\u001b[0;34m\u001b[0m\u001b[0;34m\u001b[0m\u001b[0m\n\u001b[1;32m    896\u001b[0m         \u001b[0mmode\u001b[0m \u001b[0;34m=\u001b[0m \u001b[0mmode\u001b[0m \u001b[0;34m+\u001b[0m \u001b[0;34m'b'\u001b[0m\u001b[0;34m\u001b[0m\u001b[0;34m\u001b[0m\u001b[0m\n\u001b[0;32m--> 897\u001b[0;31m     \u001b[0mfile\u001b[0m \u001b[0;34m=\u001b[0m \u001b[0mbuiltins\u001b[0m\u001b[0;34m.\u001b[0m\u001b[0mopen\u001b[0m\u001b[0;34m(\u001b[0m\u001b[0mfilename\u001b[0m\u001b[0;34m,\u001b[0m \u001b[0mmode\u001b[0m\u001b[0;34m,\u001b[0m \u001b[0mbuffering\u001b[0m\u001b[0;34m)\u001b[0m\u001b[0;34m\u001b[0m\u001b[0;34m\u001b[0m\u001b[0m\n\u001b[0m\u001b[1;32m    898\u001b[0m     \u001b[0;32mif\u001b[0m \u001b[0mencoding\u001b[0m \u001b[0;32mis\u001b[0m \u001b[0;32mNone\u001b[0m\u001b[0;34m:\u001b[0m\u001b[0;34m\u001b[0m\u001b[0;34m\u001b[0m\u001b[0m\n\u001b[1;32m    899\u001b[0m         \u001b[0;32mreturn\u001b[0m \u001b[0mfile\u001b[0m\u001b[0;34m\u001b[0m\u001b[0;34m\u001b[0m\u001b[0m\n",
      "\u001b[0;31mFileNotFoundError\u001b[0m: [Errno 2] No such file or directory: '/nfs/attic/dfh/Aragon2/CSOdmn/CO/grid_lat.asc'"
     ]
    }
   ],
   "source": [
    "#extract DEM\n",
    "field2line(DEMpath,outDEMpath)\n",
    "#extract VEG\n",
    "field2line(VEGpath,outVEGpath)\n",
    "#extract LAT\n",
    "field2line(LATpath,outLATpath)\n",
    "#extract LON\n",
    "field2line(LONpath,outLONpath)"
   ]
  },
  {
   "cell_type": "code",
   "execution_count": 24,
   "metadata": {},
   "outputs": [],
   "source": [
    "#extract DEM\n",
    "field2line(DEMpath,outDEMpath)\n",
    "#extract VEG\n",
    "field2line(VEGpath,outVEGpath)"
   ]
  },
  {
   "cell_type": "code",
   "execution_count": null,
   "metadata": {},
   "outputs": [],
   "source": []
  }
 ],
 "metadata": {
  "kernelspec": {
   "display_name": "Python [conda env:snowmodelcal]",
   "language": "python",
   "name": "conda-env-snowmodelcal-py"
  },
  "language_info": {
   "codemirror_mode": {
    "name": "ipython",
    "version": 3
   },
   "file_extension": ".py",
   "mimetype": "text/x-python",
   "name": "python",
   "nbconvert_exporter": "python",
   "pygments_lexer": "ipython3",
   "version": "3.6.10"
  }
 },
 "nbformat": 4,
 "nbformat_minor": 4
}
